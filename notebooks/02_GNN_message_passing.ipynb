{
  "cells": [
    {
      "cell_type": "markdown",
      "metadata": {
        "id": "view-in-github",
        "colab_type": "text"
      },
      "source": [
        "<a href=\"https://colab.research.google.com/github/HFooladi/GNNs-For-Chemists/blob/main/notebooks/02_GNN_message_passing.ipynb\" target=\"_parent\"><img src=\"https://colab.research.google.com/assets/colab-badge.svg\" alt=\"Open In Colab\"/></a>"
      ]
    },
    {
      "cell_type": "markdown",
      "metadata": {
        "id": "TIIaYdD66gUL"
      },
      "source": [
        "## A Graph Neural Network\n",
        "\n",
        "After completing this chapter, you should be able to\n",
        "\n",
        "  * Describe what is message passing in a GNN\n",
        "  * Describe what is permutation equivariance and permutation invariance\n",
        "\n",
        "\n",
        "A graph neural network (GNN) is a neural network with two defining attributes:\n",
        "\n",
        "1. Its input is a graph\n",
        "2. Its output is permutation equivariant\n",
        "\n",
        "We can understand clearly the first point. Here, a graph permutation means re-ordering our nodes. In our methanol example above, we could have easily made the carbon be atom 1 instead of atom 4. Our new adjacency matrix would then be:\n",
        "\n",
        "|    | 1  | 2  | 3  | 4  | 5  | 6  |\n",
        "|:---|----|----|----|----|----|---:|\n",
        "| 1  | 0  | 1  | 1  | 1  | 1  |  0 |\n",
        "| 2  | 1  | 0  | 0  | 0  | 0  |  0 |\n",
        "| 3  | 1  | 0  | 0  | 0  | 0  |  0 |\n",
        "| 4  | 1  | 0  | 0  | 0  | 1  |  0 |\n",
        "| 5  | 1  | 0  | 0  | 0  | 0  |  1 |\n",
        "| 6  | 0  | 0  | 0  | 0  | 1  |  0 |\n",
        "\n",
        "\n",
        "A GNN is permutation equivariant if the output change the same way as these exchanges. If you are trying to model a per-atom quantity like partial charge or chemical shift, this is obviously essential. If you change the order of atoms input, you would expect the order of their partial charges to similarly change.\n",
        "\n",
        "Often we want to model a whole-molecule property, like solubility or energy. This should be **invariant** to changing the order of the atoms. To make an equivariant model invariant, we use read-outs (defined below)."
      ]
    },
    {
      "cell_type": "markdown",
      "metadata": {
        "id": "ej4jE-qe6gUM"
      },
      "source": [
        "### A simple GNN\n",
        "\n",
        "We will often mention a GNN when we really mean a layer from a GNN. Most GNNs implement a specific layer that can deal with graphs, and so usually we are only concerned with this layer. Let's see an example of a simple layer for a GNN:\n",
        "\n",
        "\\begin{equation}\n",
        "f_k = \\sigma\\left( \\sum_i \\sum_j v_{ij}w_{jk}  \\right)\n",
        "\\end{equation}\n",
        "\n",
        "This equation shows that we first multiply every node ($v_{ij}$) feature by trainable weights $w_{jk}$, sum over all node features, and then apply an activation. This will yield a single feature vector for the graph. Is this equation permutation invariant? Yes, because the node index in our expression is index $i$ which can be re-ordered without affecting the output.\n",
        "\n",
        "Let's see an example that is similar, but not permutation invariant:\n",
        "\n",
        "\\begin{equation}\n",
        "f_k = \\sigma\\left( \\sum_i v_{ij}w_{ik}  \\right)\n",
        "\\end{equation}\n",
        "\n",
        "This is a small change. We have one weight vector per node now. This makes the trainable weights depend on the ordering of the nodes. Then if we swap the node ordering, our weights will no longer align. So if we were to input two methanol molecules, which should have the same output, but we switched two atom numbers, we would get different answers. These simple examples differ from real GNNs in two important ways: (i) they give a single feature vector output, which throws away per-node information, and (ii) they do not use the adjacency matrix. Let's see a real GNN that has these properties while maintaining permutation invariance --- or equivariance (swapping inputs swaps outputs the same way)."
      ]
    },
    {
      "cell_type": "markdown",
      "metadata": {
        "id": "dqOSkKSG6gUM"
      },
      "source": [
        "## Kipf & Welling GCN\n",
        "\n",
        "One of the first popular GNNs was the Kipf & Welling graph convolutional network (GCN) {cite}`kipf2016semi`. Although some people consider GCNs to be a broad class of GNNs, we'll use GCNs to refer specifically the Kipf & Welling GCN.\n",
        "Thomas Kipf has written an [excellent article introducing the GCN](https://tkipf.github.io/graph-convolutional-networks/).\n",
        "\n",
        "The input to a GCN layer is $\\mathbf{V}$, $\\mathbf{E}$ and it outputs an updated $\\mathbf{V}'$. Each node feature vector is updated. The way it updates a node feature vector is by averaging the feature vectors of its neighbors, as determined by $\\mathbf{E}$. The choice of averaging over neighbors is what makes a GCN layer permutation equivariant. Averaging over neighbors is not trainable, so we must add trainable parameters. We multiply the neighbor features by a trainable matrix before the averaging, which gives the GCN the ability to learn. In Einstein notation, this process is:\n",
        "\n",
        "$$\n",
        "v_{il} = \\sigma\\left(\\frac{1}{d_i}e_{ij}v_{jk}w_{kl}\\right)\n",
        "$$\n",
        "\n",
        "where $i$ is the node we're considering, $j$ is the neighbor index, $k$ is the node input feature, $l$ is the output node feature, $d_i$ is the degree of node i (which makes it an average instead of sum), $e_{ij}$ isolates neighbors so that all non-neighbor $v_{jk}$s are zero, $\\sigma$ is our activation, and $w_{lk}$ is the trainable weights. This equation is a mouthful, but it truly just is the average over neighbors with a trainable matrix thrown in. One common modification is to make all nodes neighbors of themselves. This is so that the output node features $v_{il}$ depends on the input features $v_{ik}$. We do not need to change our equation, just make the adjacency matrix have $1$s on the diagonal instead of $0$ by adding the identity matrix during pre-processing.\n",
        "\n",
        "Building understanding about the GCN is important for understanding other GNNs. You can view the GCN layer as a way to \"communicate\" between a node and its neighbors. The output for node $i$ will depend only on its immediate neighbors. For chemistry, this is not satisfactory. You can stack multiple layers though. If you have two layers, the output for node $i$ will include information about node $i$'s neighbors' neighbors. Another important detail to understand in GCNs is that the averaging procedure accomplishes two goals: (i) it gives permutation equivariance by removing the effect of neighbor order and (ii) it prevents a change in magnitude in node features. A sum would accomplish (i) but would cause the magnitude of the node features to grow after each layer. Of course, you could ad-hoc put a batch normalization layer after each GCN layer to keep output magnitudes stable but averaging is easy."
      ]
    },
    {
      "cell_type": "code",
      "execution_count": 1,
      "metadata": {
        "colab": {
          "base_uri": "https://localhost:8080/"
        },
        "id": "N0Gue7jOliLU",
        "outputId": "45254367-89c7-4282-bcaf-5f3539d4622d",
        "cellView": "form"
      },
      "outputs": [
        {
          "output_type": "stream",
          "name": "stdout",
          "text": [
            "Requirement already satisfied: rdkit in /usr/local/lib/python3.11/dist-packages (2024.9.6)\n",
            "Requirement already satisfied: myst_nb in /usr/local/lib/python3.11/dist-packages (1.2.0)\n",
            "Requirement already satisfied: numpy==1.26.0 in /usr/local/lib/python3.11/dist-packages (1.26.0)\n",
            "Requirement already satisfied: matplotlib==3.9.0 in /usr/local/lib/python3.11/dist-packages (3.9.0)\n",
            "Requirement already satisfied: contourpy>=1.0.1 in /usr/local/lib/python3.11/dist-packages (from matplotlib==3.9.0) (1.3.1)\n",
            "Requirement already satisfied: cycler>=0.10 in /usr/local/lib/python3.11/dist-packages (from matplotlib==3.9.0) (0.12.1)\n",
            "Requirement already satisfied: fonttools>=4.22.0 in /usr/local/lib/python3.11/dist-packages (from matplotlib==3.9.0) (4.56.0)\n",
            "Requirement already satisfied: kiwisolver>=1.3.1 in /usr/local/lib/python3.11/dist-packages (from matplotlib==3.9.0) (1.4.8)\n",
            "Requirement already satisfied: packaging>=20.0 in /usr/local/lib/python3.11/dist-packages (from matplotlib==3.9.0) (24.2)\n",
            "Requirement already satisfied: pillow>=8 in /usr/local/lib/python3.11/dist-packages (from matplotlib==3.9.0) (11.1.0)\n",
            "Requirement already satisfied: pyparsing>=2.3.1 in /usr/local/lib/python3.11/dist-packages (from matplotlib==3.9.0) (3.2.3)\n",
            "Requirement already satisfied: python-dateutil>=2.7 in /usr/local/lib/python3.11/dist-packages (from matplotlib==3.9.0) (2.8.2)\n",
            "Requirement already satisfied: importlib_metadata in /usr/local/lib/python3.11/dist-packages (from myst_nb) (8.6.1)\n",
            "Requirement already satisfied: ipython in /usr/local/lib/python3.11/dist-packages (from myst_nb) (7.34.0)\n",
            "Requirement already satisfied: jupyter-cache>=0.5 in /usr/local/lib/python3.11/dist-packages (from myst_nb) (1.0.1)\n",
            "Requirement already satisfied: nbclient in /usr/local/lib/python3.11/dist-packages (from myst_nb) (0.10.2)\n",
            "Requirement already satisfied: myst-parser>=1.0.0 in /usr/local/lib/python3.11/dist-packages (from myst_nb) (4.0.1)\n",
            "Requirement already satisfied: nbformat>=5.0 in /usr/local/lib/python3.11/dist-packages (from myst_nb) (5.10.4)\n",
            "Requirement already satisfied: pyyaml in /usr/local/lib/python3.11/dist-packages (from myst_nb) (6.0.2)\n",
            "Requirement already satisfied: sphinx>=5 in /usr/local/lib/python3.11/dist-packages (from myst_nb) (8.2.3)\n",
            "Requirement already satisfied: typing-extensions in /usr/local/lib/python3.11/dist-packages (from myst_nb) (4.13.0)\n",
            "Requirement already satisfied: ipykernel in /usr/local/lib/python3.11/dist-packages (from myst_nb) (6.17.1)\n",
            "Requirement already satisfied: attrs in /usr/local/lib/python3.11/dist-packages (from jupyter-cache>=0.5->myst_nb) (25.3.0)\n",
            "Requirement already satisfied: click in /usr/local/lib/python3.11/dist-packages (from jupyter-cache>=0.5->myst_nb) (8.1.8)\n",
            "Requirement already satisfied: sqlalchemy<3,>=1.3.12 in /usr/local/lib/python3.11/dist-packages (from jupyter-cache>=0.5->myst_nb) (2.0.40)\n",
            "Requirement already satisfied: tabulate in /usr/local/lib/python3.11/dist-packages (from jupyter-cache>=0.5->myst_nb) (0.9.0)\n",
            "Requirement already satisfied: docutils<0.22,>=0.19 in /usr/local/lib/python3.11/dist-packages (from myst-parser>=1.0.0->myst_nb) (0.21.2)\n",
            "Requirement already satisfied: jinja2 in /usr/local/lib/python3.11/dist-packages (from myst-parser>=1.0.0->myst_nb) (3.1.6)\n",
            "Requirement already satisfied: markdown-it-py~=3.0 in /usr/local/lib/python3.11/dist-packages (from myst-parser>=1.0.0->myst_nb) (3.0.0)\n",
            "Requirement already satisfied: mdit-py-plugins>=0.4.1,~=0.4 in /usr/local/lib/python3.11/dist-packages (from myst-parser>=1.0.0->myst_nb) (0.4.2)\n",
            "Requirement already satisfied: jupyter-client>=6.1.12 in /usr/local/lib/python3.11/dist-packages (from nbclient->myst_nb) (6.1.12)\n",
            "Requirement already satisfied: jupyter-core!=5.0.*,>=4.12 in /usr/local/lib/python3.11/dist-packages (from nbclient->myst_nb) (5.7.2)\n",
            "Requirement already satisfied: traitlets>=5.4 in /usr/local/lib/python3.11/dist-packages (from nbclient->myst_nb) (5.7.1)\n",
            "Requirement already satisfied: fastjsonschema>=2.15 in /usr/local/lib/python3.11/dist-packages (from nbformat>=5.0->myst_nb) (2.21.1)\n",
            "Requirement already satisfied: jsonschema>=2.6 in /usr/local/lib/python3.11/dist-packages (from nbformat>=5.0->myst_nb) (4.23.0)\n",
            "Requirement already satisfied: six>=1.5 in /usr/local/lib/python3.11/dist-packages (from python-dateutil>=2.7->matplotlib==3.9.0) (1.17.0)\n",
            "Requirement already satisfied: sphinxcontrib-applehelp>=1.0.7 in /usr/local/lib/python3.11/dist-packages (from sphinx>=5->myst_nb) (2.0.0)\n",
            "Requirement already satisfied: sphinxcontrib-devhelp>=1.0.6 in /usr/local/lib/python3.11/dist-packages (from sphinx>=5->myst_nb) (2.0.0)\n",
            "Requirement already satisfied: sphinxcontrib-htmlhelp>=2.0.6 in /usr/local/lib/python3.11/dist-packages (from sphinx>=5->myst_nb) (2.1.0)\n",
            "Requirement already satisfied: sphinxcontrib-jsmath>=1.0.1 in /usr/local/lib/python3.11/dist-packages (from sphinx>=5->myst_nb) (1.0.1)\n",
            "Requirement already satisfied: sphinxcontrib-qthelp>=1.0.6 in /usr/local/lib/python3.11/dist-packages (from sphinx>=5->myst_nb) (2.0.0)\n",
            "Requirement already satisfied: sphinxcontrib-serializinghtml>=1.1.9 in /usr/local/lib/python3.11/dist-packages (from sphinx>=5->myst_nb) (2.0.0)\n",
            "Requirement already satisfied: Pygments>=2.17 in /usr/local/lib/python3.11/dist-packages (from sphinx>=5->myst_nb) (2.18.0)\n",
            "Requirement already satisfied: snowballstemmer>=2.2 in /usr/local/lib/python3.11/dist-packages (from sphinx>=5->myst_nb) (2.2.0)\n",
            "Requirement already satisfied: babel>=2.13 in /usr/local/lib/python3.11/dist-packages (from sphinx>=5->myst_nb) (2.17.0)\n",
            "Requirement already satisfied: alabaster>=0.7.14 in /usr/local/lib/python3.11/dist-packages (from sphinx>=5->myst_nb) (1.0.0)\n",
            "Requirement already satisfied: imagesize>=1.3 in /usr/local/lib/python3.11/dist-packages (from sphinx>=5->myst_nb) (1.4.1)\n",
            "Requirement already satisfied: requests>=2.30.0 in /usr/local/lib/python3.11/dist-packages (from sphinx>=5->myst_nb) (2.32.3)\n",
            "Requirement already satisfied: roman-numerals-py>=1.0.0 in /usr/local/lib/python3.11/dist-packages (from sphinx>=5->myst_nb) (3.1.0)\n",
            "Requirement already satisfied: zipp>=3.20 in /usr/local/lib/python3.11/dist-packages (from importlib_metadata->myst_nb) (3.21.0)\n",
            "Requirement already satisfied: debugpy>=1.0 in /usr/local/lib/python3.11/dist-packages (from ipykernel->myst_nb) (1.8.0)\n",
            "Requirement already satisfied: matplotlib-inline>=0.1 in /usr/local/lib/python3.11/dist-packages (from ipykernel->myst_nb) (0.1.7)\n",
            "Requirement already satisfied: nest-asyncio in /usr/local/lib/python3.11/dist-packages (from ipykernel->myst_nb) (1.6.0)\n",
            "Requirement already satisfied: psutil in /usr/local/lib/python3.11/dist-packages (from ipykernel->myst_nb) (5.9.5)\n",
            "Requirement already satisfied: pyzmq>=17 in /usr/local/lib/python3.11/dist-packages (from ipykernel->myst_nb) (24.0.1)\n",
            "Requirement already satisfied: tornado>=6.1 in /usr/local/lib/python3.11/dist-packages (from ipykernel->myst_nb) (6.4.2)\n",
            "Requirement already satisfied: setuptools>=18.5 in /usr/local/lib/python3.11/dist-packages (from ipython->myst_nb) (75.2.0)\n",
            "Requirement already satisfied: jedi>=0.16 in /usr/local/lib/python3.11/dist-packages (from ipython->myst_nb) (0.19.2)\n",
            "Requirement already satisfied: decorator in /usr/local/lib/python3.11/dist-packages (from ipython->myst_nb) (4.4.2)\n",
            "Requirement already satisfied: pickleshare in /usr/local/lib/python3.11/dist-packages (from ipython->myst_nb) (0.7.5)\n",
            "Requirement already satisfied: prompt-toolkit!=3.0.0,!=3.0.1,<3.1.0,>=2.0.0 in /usr/local/lib/python3.11/dist-packages (from ipython->myst_nb) (3.0.50)\n",
            "Requirement already satisfied: backcall in /usr/local/lib/python3.11/dist-packages (from ipython->myst_nb) (0.2.0)\n",
            "Requirement already satisfied: pexpect>4.3 in /usr/local/lib/python3.11/dist-packages (from ipython->myst_nb) (4.9.0)\n",
            "Requirement already satisfied: parso<0.9.0,>=0.8.4 in /usr/local/lib/python3.11/dist-packages (from jedi>=0.16->ipython->myst_nb) (0.8.4)\n",
            "Requirement already satisfied: MarkupSafe>=2.0 in /usr/local/lib/python3.11/dist-packages (from jinja2->myst-parser>=1.0.0->myst_nb) (3.0.2)\n",
            "Requirement already satisfied: jsonschema-specifications>=2023.03.6 in /usr/local/lib/python3.11/dist-packages (from jsonschema>=2.6->nbformat>=5.0->myst_nb) (2024.10.1)\n",
            "Requirement already satisfied: referencing>=0.28.4 in /usr/local/lib/python3.11/dist-packages (from jsonschema>=2.6->nbformat>=5.0->myst_nb) (0.36.2)\n",
            "Requirement already satisfied: rpds-py>=0.7.1 in /usr/local/lib/python3.11/dist-packages (from jsonschema>=2.6->nbformat>=5.0->myst_nb) (0.24.0)\n",
            "Requirement already satisfied: platformdirs>=2.5 in /usr/local/lib/python3.11/dist-packages (from jupyter-core!=5.0.*,>=4.12->nbclient->myst_nb) (4.3.7)\n",
            "Requirement already satisfied: mdurl~=0.1 in /usr/local/lib/python3.11/dist-packages (from markdown-it-py~=3.0->myst-parser>=1.0.0->myst_nb) (0.1.2)\n",
            "Requirement already satisfied: ptyprocess>=0.5 in /usr/local/lib/python3.11/dist-packages (from pexpect>4.3->ipython->myst_nb) (0.7.0)\n",
            "Requirement already satisfied: wcwidth in /usr/local/lib/python3.11/dist-packages (from prompt-toolkit!=3.0.0,!=3.0.1,<3.1.0,>=2.0.0->ipython->myst_nb) (0.2.13)\n",
            "Requirement already satisfied: charset-normalizer<4,>=2 in /usr/local/lib/python3.11/dist-packages (from requests>=2.30.0->sphinx>=5->myst_nb) (3.4.1)\n",
            "Requirement already satisfied: idna<4,>=2.5 in /usr/local/lib/python3.11/dist-packages (from requests>=2.30.0->sphinx>=5->myst_nb) (3.10)\n",
            "Requirement already satisfied: urllib3<3,>=1.21.1 in /usr/local/lib/python3.11/dist-packages (from requests>=2.30.0->sphinx>=5->myst_nb) (2.3.0)\n",
            "Requirement already satisfied: certifi>=2017.4.17 in /usr/local/lib/python3.11/dist-packages (from requests>=2.30.0->sphinx>=5->myst_nb) (2025.1.31)\n",
            "Requirement already satisfied: greenlet>=1 in /usr/local/lib/python3.11/dist-packages (from sqlalchemy<3,>=1.3.12->jupyter-cache>=0.5->myst_nb) (3.1.1)\n"
          ]
        }
      ],
      "source": [
        "# @title Install required packages.\n",
        "\n",
        "!pip install rdkit myst_nb numpy==1.26.0 matplotlib==3.9.0"
      ]
    },
    {
      "cell_type": "code",
      "execution_count": 3,
      "metadata": {
        "id": "_vuqROTBlkZs"
      },
      "outputs": [],
      "source": [
        "import matplotlib.pyplot as plt # plotting\n",
        "import matplotlib as mpl # plotting\n",
        "import numpy as np # array manipulation\n",
        "#import tensorflow as tf\n",
        "import pandas as pd # dataframe manipulation\n",
        "import rdkit, rdkit.Chem, rdkit.Chem.rdDepictor, rdkit.Chem.Draw # chemical processing\n",
        "import networkx as nx # visualization\n",
        "from myst_nb import glue\n",
        "from moviepy.editor import VideoClip\n",
        "from moviepy.video.io.bindings import mplfig_to_npimage"
      ]
    },
    {
      "cell_type": "code",
      "execution_count": 4,
      "metadata": {
        "id": "pvDepplB1R33"
      },
      "outputs": [],
      "source": [
        "my_elements = { 6: \"C\",  8: \"O\", 1: \"H\"}"
      ]
    },
    {
      "cell_type": "code",
      "execution_count": 5,
      "metadata": {
        "id": "tMASLLYymJBK"
      },
      "outputs": [],
      "source": [
        "def smiles2graph(sml):\n",
        "    \"\"\"Argument for the smiles2graph function should be a valid SMILES sequence\n",
        "    returns: the graph\n",
        "    \"\"\"\n",
        "    m = rdkit.Chem.MolFromSmiles(sml)\n",
        "    m = rdkit.Chem.AddHs(m)\n",
        "    order_string = {\n",
        "        rdkit.Chem.rdchem.BondType.SINGLE: 1,\n",
        "        rdkit.Chem.rdchem.BondType.DOUBLE: 2,\n",
        "        rdkit.Chem.rdchem.BondType.TRIPLE: 3,\n",
        "        rdkit.Chem.rdchem.BondType.AROMATIC: 4,\n",
        "    }\n",
        "    N = len(list(m.GetAtoms()))\n",
        "    nodes = np.zeros((N, len(my_elements)))\n",
        "    lookup = list(my_elements.keys())\n",
        "    for i in m.GetAtoms():\n",
        "        nodes[i.GetIdx(), lookup.index(i.GetAtomicNum())] = 1\n",
        "\n",
        "    adj = np.zeros((N, N, 5))\n",
        "    for j in m.GetBonds():\n",
        "        u = min(j.GetBeginAtomIdx(), j.GetEndAtomIdx())\n",
        "        v = max(j.GetBeginAtomIdx(), j.GetEndAtomIdx())\n",
        "        order = j.GetBondType()\n",
        "        if order in order_string:\n",
        "            order = order_string[order]\n",
        "        else:\n",
        "            raise Warning(\"Ignoring bond order\" + order)\n",
        "        adj[u, v, order] = 1\n",
        "        adj[v, u, order] = 1\n",
        "    return nodes, adj"
      ]
    },
    {
      "cell_type": "code",
      "execution_count": 6,
      "metadata": {
        "id": "ywKDp8RCmFWq"
      },
      "outputs": [],
      "source": [
        "nodes, adj = smiles2graph(\"CO\")"
      ]
    },
    {
      "cell_type": "code",
      "execution_count": 7,
      "metadata": {
        "colab": {
          "base_uri": "https://localhost:8080/",
          "height": 422
        },
        "id": "3ambFWgTl1Lb",
        "outputId": "6e5184d5-1eb3-479b-a235-6dbb50d148c5"
      },
      "outputs": [
        {
          "output_type": "display_data",
          "data": {
            "application/papermill.record/text/plain": "<Figure size 800x500 with 1 Axes>",
            "application/papermill.record/image/png": "iVBORw0KGgoAAAANSUhEUgAAAowAAAGVCAYAAAB0AqAYAAAAOXRFWHRTb2Z0d2FyZQBNYXRwbG90bGliIHZlcnNpb24zLjkuMCwgaHR0cHM6Ly9tYXRwbG90bGliLm9yZy80BEi2AAAACXBIWXMAAA9hAAAPYQGoP6dpAABzuUlEQVR4nO3deVxVdf7H8de5l+WC+wZIVuKSS+4bbiXmLTRtpNJsG8tM08kpo7Rs1Bz1l5NlqWnS5miLU2llTouNoGgmqbi0immiVspiqQiy3nt+f6DXSERZ7wXez8eDB3HO93zP56jBm+853+8xMtKTTURERERELsDi7gJERERExLMpMIqIiIhIkRQYRURERKRICowiIiIiUiQFRhEREREpkgKjiIiIiBRJgVFEREREiqTAKCIiIiJFUmAUERERkSIpMIqIiIhIkRQYRURERKRICowiIiIiUiQFRhEREREpkgKjiIiIiBRJgVFEREREiuRVlp05HE7yHA4wy7JXqXAGeFmtWK36fUJERETKKDCapslvv53iVHpWWXQnHqJWTRsNGtTCMAx3lyIiIiJuVCaB8bffTpGekU1AQAB+frbiBQzTxJLyHZajX2P5bS/kZYGXDWeDVjgbd8QZ0A4UWCqUaZpkZmaRmpoKQMOGtd1ckYiIiLhTqQOjw+HkVHoWAQEB1K9frxgH5mLsehNjaxTG7wcwMcDiRf79bAOceRiYmPWbYYaOw+z8V7B6l7ZcuUR+fn4ApKSkUK9eTd2eFhERqcZKHRjzHA4A/Pxsl35Qyh4sq8dB8g+uTQYmOHPPb/t7IsZnj2PsXI4zIgoC2pS2ZLlEZ/9O8xwOBUYREZFqrPQp4MwEl0u+DX3oSyyvXw8pCRiY+UGxCK42KQlYXr8BDn1ZyoLlUrn+TjWJSUREpFqr2GGjlD1YVowARw6G6SjWoYbpAEc2lhW3Q8qecipQRERERP6s4gKjIzf/NrQjF8N0lqgLw3SCMwfL6vHgKOT2tYiIiIiUuQoLjMauNyH5h2KPLJ7Xj9MByd/n9+fhmjdvyYIFC91dhoiIiEipVExgNE2MrVFl2qWx9WUwq8fDdTk5Oe4uQURERKqxigmMSd9g/H7gohNcLpWBifH7T5D0ban6cTqdPPvsc7Rq1QZ//5qEhDTn6afnAPDzzz9z++130KBBIxo1CuTmm2/h4MGDrmPvu280t9xyK/PmPU+TJlcQEBDE3//+ELm5+bfKr7vOzqFDh3j00cfw8vLBy8vHdezmzV/Sr19/atasTdOmzZg48REyMjJc+5s3b8ns2f/HvfeOol69BowbN75U1ykiIiJSGuUTGE0TcjJcH8bPW/PXWSzLU2Bg/Ly1wHmKO+L45JP/YO7cZ/nHP6bw7bdf8+abbxAYGEhubi433jiYWrVqERu7nk2bYqlZsyaDBw8pMNoXG7uRAwcOEB39P5YufZ3ly99g+fI3AFi16j2aNGnCjBlP8csvh/nll8MA/PTTTwwePIRbbrmZXbt2sGLF23z55Zc89NDDBWp7/vkX6NChA/Hx2/jHP54s5Z+WiIiISMkZGenJpRr2y87O5cjR4zRteiU225m1GHMysD5zZVnUVyyOxw+BT41Lanvq1CmCgoJZuHABo0ffV2Df22+/zdNPz+G77751LS2Tk5NDgwaNeP/9Vdxww/Xcd99oNm7cxI8/JmC1WgG4/fY7sFgsrFjxNpA/UvjQQ3/n4YcfcvU9duwDWK1Wlix5ybVt8+Yvue66AaSlncBms9G8eUs6derI+++vKtWfR2llZWVx8OAhghvXw9dXi6aLiIhUV2XyasDKaM+eBLKzs7nuuv7n7fv662/Zv/8n6tatX2B7VlYWBw4ccH3dtm1bV1gEaNy4Md9++12R5/3mm2/45ptvWbHiP65tpmnidDpJTEykTZv8hcm7du1aousSERERKWvlExi9/fNH+84wop/C2PUWhjOvzE5hWrwwO/8V0z6jwHkvVVFvpsnISKdLly68+eby8/Y1atTo3Om8C/7xGYaB01n0kkHp6emMHTuGCRMePG/fFVdc4frvGjUubaRUREREpLyVT2A0jIK3hgPbgbN0y+mcx+mAoHaXfAv6z1q2bImfnx/r129g9OiQAvs6d+7Me++tJCAggNq1a5e4RB8fbxyOgtfduXNnfvhhDy1atChxvyIiIiIVqUJmSZvBnctshvRZBiZm484lPt5mszFp0mM88cQU3nzzTX766Se++morS5f+mzvvvIOGDRtw88238sUXm0lMTCQ2diMTJz7CL7/8csnnuPLKpnzxxRf8+uuvHDt2DIBJkx4jLi6Ohx56mN27d7Nv3z7WrFlz3qQXEREREU9RMcvqBHXArN+szGZKmxiY9ZtDUPtS9TN16j945JGJzJgxk3btOnDnnXeRkpKCv78/Gzas54orLmf48Nto164DY8c+QFZWVrFGHGfMeIpDhw5x1VWtCQoKBqBDhw6sXx/Djz/uIyzsOrp168GMGf+kcePGpboWERERkfJSPrOkCztR/FKMzx4vk5FGEwNz0DOY3e67eGMpMc2SFhEREajAVwOanf8KgW0xDevFGxfVj8UKgVdjdhlZRpWJiIiISFEqLDBi9cYZEQVWH0yjZKc1DQtYfHBGLAFLtV0RSERERKRCVVxgBAhog/POd8Dqmz9SWAymxQpW3/zjA9qUU4EiIiIi8mcVGxgBruyDc/T/oFGb/GcRLzIRxtWmUZv8467sU0GFioiIiAi4600vAW1wjl6HsetN2LqEPem/8J2vLz/5+JJlgM2E5jnZtMvOpnXNyyF0XP4zkFZNvBARERGpaG57EDDXgA9q1eTtJpdx+JQDA7CemUNtAA5qYAJX1Armrlo1ucUAxUURERGRildhy+r80f4T+3ly8z/48cQ+jPwluC9c4Jn9V9VtydN9/48WdfWGlIqiZXVEREQE3PAMY3zyDu767K/8dPIAQJFh8Y/7fzp5gLs++yvxyTvKvUYREREROadCA+P+E/t5cP0Ech25OMzivVvaYTrIdeTy4PoJ7D+xv5wqLJ5//nMmXbt2K9Yx111nJzLy0SLbeHn58NFHH5WmNBEREZEyU2GBMdeZy5Ob/0GeMw8nzhL14cRJnjOPf3w5lVxnbhlXWHyPPhrJ//73ubvLEBERESlXFRYYP9j3IT+e2FfskcU/c5gO9h7/kQ/2fVhGlZVczZo1adCggbvLuCQ5OTnuLkFEREQqqQoJjKZp8nbCCoyLrLl4qQwMViSswDRL917q666zM3HiIzz++BM0ahTIZZddzj//OdO1/8SJE4wd+wBBQcHUq9cAu/0Gvv76a9f+P9+SzsvLY+LER2jQoBEBAUE88cQURo26j1tuubXAeZ1O5wXPedbRo0kMHnwTNWvWpmXLVrz//vsF9n/77bfY7TdQs2ZtAgKCGDduPOnp6a799903mltuuZWnn57D5ZdfSdu27QBYsiSK1q3bUqNGLYKDm3DbbSNK9WcoIiIiVV+FLKuT8HsCh08dLrP+TEwOnTrM3uN7aV2/dan6euONN5k48WG2bNnMV199xX333U/v3r25/no7I0bcgZ+fjY8//i916tTmlVde44YbBrJnz/fUr1//vL7mzn2WFSv+w+uvv0rr1q158cVFfPTRGsLC+l3yOc966qkZPP30//HCC/N46623ufPOu9m9uy1t2rQhIyODG28cQs+eoXz11RZSUlJ54IFxPPTQwyxd+rqrj/XrN1C7dm3Wrv0UgPj4HUyc+AjLl/+bXr168fvvv7N585el+vMTERGRc3yfDXTr+bMnJZdLv+USGE3TJMuR5fp6V+ru8jgNu1J2c2XtK11f26w2DKN4o5jt27dn+vRpALRs2ZLFi5ewfv16/Pz82L59O0eP/oqvry8Azz77DGvWrOH99z9gzJj7z+tr8eKXePzxyURERACwcOECPvts7SWf84+BcdiwWxk9+j4AZs78J9HRMSxe/BKLFr3If/7zDllZWSxb9m9q1KgBwIIF84mIuJk5c54mMDD/H2uNGjV45ZWX8fHxAeDDDz+kRo0aDB48mFq1anHllVfSuXPnYv15iYiISPVTLoExy5FFr3fK/xV+z8TP5Zn4ua6v427/Ej8vv2L10aFD+wJfN24cRGpqKt988w3p6ekEBAQV2J+ZmclPP/10Xj8nT54kOTmZ7t27u7ZZrVa6dOmM01lwks+FzvlHPXuG/unrnq7b4Xv2JNChQwdXWATo06c3TqeTvXt/dAXGdu3aucIigN1u58orr6Bly1aEh99AePgNRERE4O/vX/gfjoiIiAhufNOLp/D2LrggtWEYOJ1O0tPTady4MTEx6847pm7duuVyzrJWo0bBIFirVi22b99GbOxG1q1bx4wZM5k5czZffbWl1NckIiIiVVe5THqxWW3E3f6l62N4y2F4GWWbTb0ML267aniB89isl/ammUvRuXNnkpKS8PLyokWLFgU+GjZseF77OnXqEBgYSHx8vGubw+Fg167dJTr/1q3b/vT1Vtq0yX9es02b1nzzzTdkZGS49n/55RYsFgutWl1VZL9eXl7Y7QN45pl/sWvXDg4ePMiGDRtKVKOIiIhUD+UywmgYRoFbw63qXUWemVem53CYDq6qd1Wxb0FfKrt9AD179uTWW4cxZ84crrqqJUeOHOXTTz8lIiKCbt26nnfMgw/+jWeemUuLFs1p1aoVixe/xPHjx4v9XCXAqlXv07VrV/r06c2KFf9h+/btvPrqywDceecd/POfMxk16j6mT59GauoxJk58hLvvvst1O7owH3/8CYmJiVxzTV/q1avHZ5+txel0ctVVRYdMERERqd4q5Jb01Q2uLvM+TUzalUO/ZxmGwccfr2HatOncf/8YUlNTCQoK4ppr+hIYGFDoMZMnTyI5OZl7770Pq9XK/feP5oYbrsdqtRb7/E89NZ13332PCRP+TuPGjXn77Tdp27YtAP7+/nz66cc88sij9OzZG39/f2655Waee+7ZIvusW7cuH364mpkzZ5GVlUXLli14++03ufrq8vtzrIqSk1M4cTLN3WWUu7p1al/w37qIiJS9TYdg3hbYeQSOpsP7I2DoRRaDiT0Ikz6H71Ph8towqfE7/PXu2wu0efnlpcxf8BLJySm0b9+Wec89TbduXYpVm5GRnlyqxQyzs3M5cvQ4TZteic1W+C1h0zQZuuZmfj7180XfHX0pDAyuqHU5q//yYYlG7yqK0+mkXbv2DBs2jJkz/+nucootKyuLgwcPEdy4Hr6+3hc/oBpITk7hryPHkZWVdfHGlZzNZuPNN6IUGkVEiqE0y+p8tg+2/AxdG8Ow9y4eGBOPQ8clMLYrjO4C6xMh8n9W3n//ba639wdg1arVjBn7dxYsmEv3bl1YvPgVPlz9X3bt/JKAgEaXXFuFjDAahsFdre9kzvZ/lUl/JiZ3tr7T48LioUOHWLcummuvvYbs7GxeemkJiYkHueOO2y9+sFQKJ06mkZWVxaxZswgJCXF3OeUmMTGRadOmceJkmgKjiEgFGdQy/+NSvRwPIXXhufD8r9s0gi/8h7Bo0cuuwPjioihG3Xs3I/96BwALFz7L2s+jeePN//DYow9d8rkqbJb0LS1v5v197/PTyQOlej2g1bDSom5zbm15SxlWVzYsFgvLl7/B5MmPY5omV199NZ9/vpY2bdq4uzQpYyEhIbRuXbpF40VERErjq19gQLOC2wbY+/P44/lrPefk5LBr1zcFgqHFYqF//2vZti2e4qiwwOht8ebpvv/HXZ/9FdNh4qT4y8hYsOBl8eL/+szGy+J5KwJdfvnlfPHFRneXISIiItVAcjoE1Ci4LSCgEWlpp8jMzOTEiZM4HI7zbj0HBDTixx/3FetcFfIu6bNa1G3B4usW4W31xmoUbyKI1bDibfVm8XWLaFG3RTlVKCIiIiJ/VqGBEaBbYFfeHvQmLeo2B/InsBTl7P4WdZvz9qA36RZ4/nI2IiIiItVNYE1IySi4LSUlldq1a+Hn50eDBvWxWq2kpKSe16a4z6eXPjCeyXumeemzn1vUbcFbg95kSvcnuLzW5We6MfAyvLAaVrwML1dQvKLW5Uzp/gRvDXpTI4sVzPV36llziyq1TZs2cdNNNxEcHIxhGKxevfqix8TGxtKlSxd8fX1p0aIFy5YtO6/N4sWLadq0KTabjdDQULZt23Z+RyIiUqX0bJI/M/qP1q/fSI8e3QDw8fGhc+cOxMZ+4drvdDqJjf3C1eZSlfpBQK8zawxmZmbh53fpi2h7W7wZ0eo2brtqOHuP7+W7377npxMHyHJkYbPaaF63Ge0aXE2req08bjZ0dZGZmb90jFcJ1pGUwmVkZNCxY0fuu+8+brnl4hO3EhMTGTx4MOPGjePtt98mJiaG+++/n8aNGxMenj8t7t133yUyMpKoqChCQ0OZP38+4eHh7N27l4AAzXAWEaks0nNg/+/nvk48DruToL4fXFEHnoyGI6dg2c35+x/oBi9th8fXwajOsCERPvh8De+//7arj79PGMfYBx6ic5dOdOvamcWLX+H06dPnrdV4MaUOjFarhVo1baSm5g93+vnZih3wmvo3pal/U7j8/H3Z2dmlLVGKyTRNMjOzSE1NpVZNG1ZrhT+5UGUNGjSIQYMGXXL7qKgoQkJCmDdvHgBt2rRh8+bNvPDCC67A+PzzzzNmzBhGjRrlOuaTTz5h6dKlPPHEE2V/ESIiUi7ij4B9+bmvH/tf/ueRHWFpBCSlw+GT5/aH1IM1d8Jjn8OLW6FJbVi8+HnXkjoAw4ZFcOzYb8yePZfk5BQ6dLia1R/+p9i3pMtkqnGDBrUASElJKYvuxEPUqmlz/d2Ke8TFxWG32wtsCw8PZ+LEiUD+kgk7duxgypQprv0WiwW73U5cXFxFlioiIqUU1hTynrrw/qURhR8T/8C5r7MLGTkcN24048aNLlVtZRIYDcOgYcPa1KtXkzyHgzJ4mYu4k5F/G1oji+6XlJR03vvBAwMDSUtLIzMzk+PHj+NwOAptk5CQUJGliohIFVamixlarRaFDBEREZEqxvNWvxYRl6CgIJKTkwtsS05Opnbt2vj5+WG1WrFarYW2CQoKqshSRUSkCtNwoIgH69WrFzExMQW2rVu3jl69egH5SyZ07dq1QBun00lMTIyrjYiISGkpMIpUoPT0dHbv3s3u3buB/GVzdu/ezeHDhwGYMmUKI0eOdLUfN24cBw4cYPLkySQkJPDSSy/x3nvv8cgjj7jaREZG8uqrr7J8+XL27NnD+PHjycjIcM2aFhERKS3dkhapQPHx8fTvf265g8jISADuueceli1bxtGjR13hESAkJIRPPvmERx55hAULFtCkSRNee+0115I6ACNGjCA1NZXp06eTlJREp06dWLt27XkTYUREREpKgVGkAoWFhRX5VqTC3uISFhbGrl27iux3woQJTJgwobTliYiIFEqBUURERKSMJM140q3nr5dx8TYloWcYRURERKRICowiIiIiUiQFRhEREREpkgKjiIiIiBRJgVFEREREiqRZ0iIlkJiY6O4SylVVvz4REU+1bHE8Uc9uJTUpnTYdA5n14g107hF8wfYfr9zDs9M28svBkzRtWZ+n/3k1A8Ptrv2maTJ79lz+vewtTp5Mo2fP7iyYP5cWLZoVqy4FRpFiyM3NxWKxMG3aNHeXUu4sFgu5ubnuLkNEpNpY8+4PzIyMYU7UQDqHBvPa/O3cHf4OG/c+QMOAGue1j9/yCw/esZon5vTHPqQFq1d8z+2338uXm9dx9dVtAHj+hUUsiXqNV15eyJVNr2DWrGcYGjGCHfFfYLPZLrk2IyM9+cKrCItIAXt/3M+YMQ8xfvx4goMv/BtfZXfkyBGWLFnCq68upNVVLdxdjohIpXG8xoISHzskdBkduzfm/xblv83L6TTpfvmLjPp7NyY80fu89uNHfMjpjFyWf3yba9vNPdbSoX07Fi58FtM0ad6iAw89NJ6JD/8NgJMn0whp1o6XoxYwfPjNl1ybRhhFSqBPnz60bt3a3WWUm4SEBJYsWeLuMkREqo2cHAff7jjKhCm9XNssFoNr7CHsjPu10GN2xP3K2MgeBbbZB/Tnvx9/BsDBg4dITk6hf/9rXfvr1KlN925d2LotvliBUZNeRERERNzs92OncThMGgUWvPXcMLAGKUmFv74lNSmdhn9qHxDQiOTkFACSk1Nd2/7cJuVMm0ulwCgiIiIiRVJgFBEREXGz+g39sVoNUpMLjiYeS84gIOj8CS8AjYJqcuxP7VNSUgkMDAAgMLCRa9uf2wScaXOpFBhFKtjixYtp2rQpNpuN0NBQtm3bVmT7lStX0rp1a2w2G+3bt+fTTz8tsN80TaZPn07jxo3x8/PDbrezb9++8rwEEREpYz4+Vtp3bczmmIOubU6nyeaYg3TpdVmhx3TtdVmB9gDrN2wktEc3AJo2vZLAwABiY79w7U9LO8X2+J2uNpdKk15EKtC7775LZGQkUVFRhIaGMn/+fMLDw9m7dy8BAef/trdlyxbuuOMO5syZw5AhQ1ixYgURERHs3LmTdu3aATB37lwWLlzI8uXLCQkJYdq0aYSHh/PDDz8Ua8kEEbm40syArUzqZTzs7hKqpbGRPXjknv/SsVtjOvUI5rX528jMyGXEqA4APDxyDUGX1WLKnP4AjH64O8P6vcXL87YyYHBzPnrnB3bu/JoXFz4HgGEYPPjgWObOfYEWzUO48sormDX7GRo3DuSmmwYVqzaNMIpUoOeff54xY8YwatQo2rZtS1RUFP7+/ixdurTQ9gsWLGDgwIFMmjSJNm3aMGvWLLp06cKiRYuA/NHF+fPnM3XqVIYOHUqHDh144403OHLkCKtXr67AKxMRkdL6y4i2TH1uAM9N30R4p9f5fncKb64dQaPAmgD8ejiNlKPprvbdejdh0YqhvP3KLm7o+DqfrkrgnXeWudZgBIh8ZALjHhjNhL8/xrX9BpKensHqD98p9oCCRhhFKkhOTg47duxgypQprm0WiwW73U5cXFyhx8TFxREZGVlgW3h4uCsMJiYmkpSUhN1+blX/OnXqEBoaSlxcHLfffnvZX4iIiJSbURO6MWpC4beLV8Xefd62IcPbMGT4uYBYL8NeYL9hGEyb9jjTpj1eqro0wihSQY4dO4bD4SAwMLDA9sDAQJKSkgo9Jikpqcj2Zz8Xp08REZHiUmAUERERkSIpMIpUkIYNG2K1WklOTi6wPTk5maCgoEKPCQoKKrL92c/F6VNERKS4FBhFKoiPjw9du3YlJibGtc3pdBITE0OvXr0KPaZXr14F2gOsW7fO1T4kJISgoKACbdLS0ti6desF+xQR91q2OJ6eTRfT3PYMQ0KXsWvbkSLbf7xyD/1aR9Hc9gwD2r9KzKf7C+w3TZNnp2+kS+MFNPeby+32FRzY93t5XoJUQwqMIhUoMjKSV199leXLl7Nnzx7Gjx9PRkYGo0aNAmDkyJEFJsU8/PDDrF27lnnz5pGQkMCMGTOIj49nwoQJQP7DzBMnTmT27NmsWbOGb7/9lpEjRxIcHExERIQ7LlFEirDm3R+YGRnDI0/15bOd99G2YwB3h7/DsZTCX/0Wv+UXHrxjNbeP7sTaXaMZGHEV90esIuG7c691e2nuV/x7YTxzogbx36334l/Dm7vD3yErK6+iLkuqAQVGkQo0YsQInnvuOaZPn06nTp3YvXs3a9eudU1aOXz4MEePHnW17927NytWrOCVV16hY8eOrFq1itWrV7vWYASYPHkyf//73xk7dizdu3cnPT2dtWvXag1GEQ/0yvPbuGNMJ0aM6shVbRvxr6hB2Py9eGfp14W2f33BdsIGNmf8pJ60bNOQSbP60a5LEMsW7QDyRxdfn7+Nh6b2IXzoVbTtEMD8N24i+cgpPl+9tyIvTao4LasjUsEmTJjgGiH8s9jY2PO2DR8+nOHDh1+wP8MwmDlzJjNnziyrEkWkHOTkOPh2x1EmTDn3uIjFYnCNPYSdcb8WesyOuF8ZG9mjwLZ+4c34fPWPABxOPEFKUgbX2ENc+2vXsdEpNJgdcb8y9Pary+FKpDrSCKOIiEgF+P3YaRwOk0aBBd8L3DCwBilJhd+STk1Kp+Gf2jcKrEFqUvqZ/RmuPs5vU3ifIiWhwCgiIiIiRVJgFBERqQD1G/pjtRqkJhcc+TuWnEFAUI1Cj2kUVJNjf2qfmpxBo6CaZ/bXcPVxfpvC+xQpCQVGERGRCuDjY6V918Zsjjno2uZ0mmyOOUiXXpcVekzXXpcVaA/wxbpEup5pf0VIXQKCahRocyotm91bj7jaiJQFTXoRERGpIGMje/DIPf+lY7fGdOoRzGvzt5GZkcuIUR0AeHjkGoIuq8WUOf0BGP1wd4b1e4uX521lwODmfPTOD3wTf5RnXhkE5E96Gz2xBwtnf0lIy3pcHlKX56ZtIjC4FuERrdx2nVL1KDCKiIhUkL+MaMtvqad5bvomUpMyaNspkDfXjqBRYP4t5l8Pp2GxGK723Xo3YdGKocydupFnnowlpGU9Xls9jNbtAlxt/ja5J6czcnh87Geknciie9/LeWvtCGw2/YiXsqN/TSIlkJiY6O4SylVVvz4Rdxo1oRujJnQrdN+q2LvP2zZkeBuGDG9zwf4Mw2DSzH5MmtmvzGoU91m2OJ6oZ7eSmpROm46BzHrxBjr3CL5g+49X7uHZaRv55eBJmrasz9P/vJqB4XbXftM0mT17Lv9e9hYnT6bRs2d3FsyfS4sWzYpVlwKjSDHk5uZisViYNm2au0spdxaLhdzcXHeXISJSbZx9E9CcqIF0Dg3mtfnbuTv8HTbufYCGAedPYjr7JqAn5vTHPqQFq1d8z+2338uXm9dx9dX5v2Q8/8IilkS9xisvL+TKplcwa9YzDI0YwY74L4r1ggcFRpFi8Pb2xul0Mn78eIKDL/wbX2V35MgRlixZgre3t7tLERGpNv74JiCAf0UNIuaT/byz9GsmPNH7vPZ/fBMQwKRZ/djyeSYvv7yUhQufxTRNFi9+hcmTH2HIkPznXl99ZREhzdrx3/9+xvDhN19ybQqMIiXQp08fWrdu7e4yyk1CQgJLlixxdxkiItVGWb0JyD6gP//9+DMADh48RHJyCv37X+vaX6dObbp368LWbfHFCoxaVkdERETEzcrqTUABAY1ITk4BIDk51bXtz21SzrS5VAqMIiIiIlIkBUYRERERNyurNwGlpKQSGJi/7FJgYCPXtj+3CQgMoDgUGEUq2OLFi2natCk2m43Q0FC2bdtWZPuVK1fSunVrbDYb7du359NPPy2w3zRNpk+fTuPGjfHz88Nut7Nv377yvAQRESljZfUmoPUbNhLaI3/ZpqZNryQwMIDY2C9c+9PSTrE9fqerzaXSpBeRCvTuu+8SGRlJVFQUoaGhzJ8/n/DwcPbu3UtAwPm/7W3ZsoU77riDOXPmMGTIEFasWEFERAQ7d+6kXbt2AMydO5eFCxeyfPlyQkJCmDZtGuHh4fzwww/FWjJBRC4uaMbT7i6hQmRPetjdJVRLZfEmoJ07v+bFhc8B+Wt0PvjgWObOfYEWzUO48sormDX7GRo3DuSmmwYVqzaNMIpUoOeff54xY8YwatQo2rZtS1RUFP7+/ixdurTQ9gsWLGDgwIFMmjSJNm3aMGvWLLp06cKiRYuA/NHF+fPnM3XqVIYOHUqHDh144403OHLkCKtXr67AKxMRkdL6y4i2TH1uAM9N30R4p9f5fnfKeW8CSjma7mp/9k1Ab7+yixs6vs6nqxJ4551lrjUYASIfmcC4B0Yz4e+PcW2/gaSnZ7D6w3eKPaCgEUaRCpKTk8OOHTuYMmWKa5vFYsFutxMXF1foMXFxcURGRhbYFh4e7gqDiYmJJCUlYbefW9W/Tp06hIaGEhcXx+233172FyIiIuWmtG8CqpdhL7DfMAymTXucadMeL1VdCowiFeTYsWM4HA4CAwMLbA8MDCQhIaHQY5KSkgptn5SU5Np/dtuF2oiICKRmHmNn6tckHP+R739P4Ke0RDLzsnCaTrwsXtTxqUXb+q1pU68VbepdRZdGnfC1+ri7bI+hwCgiIiJVkmmaxKfsYuVPq/niyBacmHgZVvJMR4F2uc5cjmX9zuYjX7H56Fc4TSc1vWtwc8gQbm42hMtqVt03e10qBUaRCtKwYUOsVivJyckFticnJxMUFFToMUFBQUW2P/s5OTmZxo0bF2jTqVOnMqxeRKRy2X3sW56On8eh9J+xGlacmADnhcU/cuLkTDPSczN4e99K3vzxXexNwnis89+p51u3Air3TJr0IlJBfHx86Nq1KzExMa5tTqeTmJgYevXqVegxvXr1KtAeYN26da72ISEhBAUFFWiTlpbG1q1bL9iniLjHpkMw9D9w+Tzw+id8VPiTKAXEHoTuL4P/bGi1EJbvPr/NS9ug+XyoMRt6vQbbCn+LXLWRlZfFC7tf4oHYifyckf+H4SgiJBbFaToBWP/rJoavvYeYXzaWWZ2VjQKjSAWKjIzk1VdfZfny5ezZs4fx48eTkZHBqFGjABg5cmSBSTEPP/wwa9euZd68eSQkJDBjxgzi4+OZMGECkP8w88SJE5k9ezZr1qzh22+/ZeTIkQQHBxMREeGOSxSRC8jIgQ6B8OKNl9Y+8Tj8ZQX0awo7HoCHesLYNfD5/nNt3vsOHvsfTOsH2x+AjoFw41uQUvib5Kq8IxlHuWvdGN7d/wFwLvCVltN0kp6bwZNfzeSf258hz5lXJv1WJrolLVKBRowYQWpqKtOnTycpKYlOnTqxdu1a16SVw4cPY7Gc+z2ud+/erFixgqlTp/Lkk0/SsmVLVq9e7VqDEWDy5MlkZGQwduxYTpw4Qd++fVm7dq3WYBTxMINa5n9cqpfjIaQuPBee/3WbRvDlYVjwFYS3yN/2wldwfxe4t3P+1y8NgU/3wb93weN9y7R8j3fo1M88EDuRtJxTmGfvK5ehs31+dmgdp3JOMafXU3hbvMv8PJ5KgVGqLMOwAAYYBpgmYGKW0W+bpTFhwgTXCOGfxcbGnrdt+PDhDB8+/IL9GYbBzJkzmTlzZlmVKCIe4KtfYECzgttuaA6Rn+f/d44Ddh6BJ/4QDC1G/jFf/VJxdXqCoxnJjN8YSVpOGo5y/j5vYrL56FdM3zqH2T3/gdWwluv5PIUCo1QZFos3VqsPFqs3Fos3hmGc18Y0nTgduTideeQ5sjGr4W0FEakcktMh4E+vEA6oCWnZkJkLx7PAYRbSpgYkHKu4Ot0tz+ngibinOJF9stzD4lkmJut/3cjbe1sysvUdBfbVy6iab8nRM4xSyRl4eflh86uPza8eXt7+FwyLkD/qaLH64OXtj59ffXxt9bB66datiEhl9faP75FwYl+JJ7aUxsvfLyMx7VCFn9cdFBil0rJ62fDzb4C3T02MM7cEDMO4YFg8649tLBYvfH1rY/NrgKUaPYsiIp4vsOb5k1dS0qG2L/h5Q0N/sBqFtMmAoJoVV6c7HUg7yMvf/9tt5zdxMmPbHPKcFR9WK5oCo1Q6hmHB17cOvr61AeOSQuKF+zJcfdr86uHtUwsoWV8iImWpZxNYn1hwW/SB/O0APlboEgzrD5zb7zTzvz7bpqpb9M0rUA4TXC6Vw3SScGIf635e77YaKooCo1QqFosXNr/6WM68rqmkQfHPzvbj5WXD5lfvzIQZEZGyk54Du5PyPyB/2ZzdSXD4ZP7XT0bDvR+ea/9ANzhwHB5fl/9M4pLtsPJ7eLjnuTaP9ITXdsIbu2FPKjz4MWTkwr2dKuqq3OdIRhJbkrYW+7nF418c57t7vyMzMbPQ/QfmHGDfP/Zdcn8WLLy3/8OLN6zkNOlFKg2LxQtfWz2g7ILin+X3a8XXVo/srOMeMataRKqG+CNgX37u68f+l/95ZEdYGgFJ6efCI0BIPVhzJzz2Oby4FZrUhlf+cm5JHYDb2kHqaZgRm398xyD45K7829lV3eoDH2MYFrd/n3bi5Ifje/nxxH6uqtvi4gdUUgqMUikYhhVfW90z/12+t4zz+7fga6tHVubvFHa7IzEx8bxtVUlVvz4RdwhrCnlPXXj/0ojCj4l/oOh+H+yR/1GdmKbJ6sRPymxh7tKyGlY+SvyUSZ0fcncp5UaBUSoFX1sdzj6vWBHOhkYf39rkZJ/7lb9undrYbDamTZtWIXW4k81mo26d2u4uQ0TkPL9kHOFkTpq7y3BxmA52pX7j7jLKlQKjeDxv7xoYhrXCwuJZhmHg5eWLI88XhyMbgMDAAN58I4oTJz3nG1V5qVunNoGBAe4uQ0TkPAnHfyx1H45MB3mnClmLt4QTng+eOkyOIwefM8/YVzUKjOLRLBYvvLz9KzwsnmWaJj6+tcjMzIUztz4CAwMUpERE3Cjh+I9YDWup1l48OPfgBff5XuZb7P4cpoOfTibSpn6rEtfkyRQYxaN5ede4eKNyZBgGpgneXn7k5mZc/AARESl3v6QfKfVC3Y3/2hjfoPODYdI7SZjOki3Vczj91yobGLV2iHgsw7BgtfoUe3Rx2bJlGIZBfHx8ofvDwsJo165dMeow8PL2K1YNIiJSfk7nFb4kTnH4N/On5tU1z/uw+Jc8GmWfeXypKtIIo3gsLy/PCWn54fXcs4xSvo7XWODuEipMVX3vrEj5ct9i3UXz1LpKTyOM4rGsXja3Pbv4Z6Zp4qV3TouIeASbh34/rqoTXkAjjOKpDAsWi9XdVbgYhoHFqndNi1R3STOedHcJFaKehz+yHeQfiJdhJa+UzzGWtSD/QHeXUG4UGMUjWSyl/6d58uRJjh07dt723NzcEvVnGBaPeKuAiEh116beVR4XFg3Qm15EKprF4oVpmqW6JW232y+47+qrry5RnxaLt55jFBFxE9M0SUj4kR0bd0FDd1dTUJOal+HvQc/elzUFRvFIFqP0t6MXL17MVVdddd72Rx99FIej+L+Z5gdYPfYrIlKRjh8/wYYNm4iO2UB0dCy//noEX5svLV9sCSV4UqjeNfWod029C+5vNqVZsfu0GlY6NLj01TcqIwVG8UxlMNmlR48edOvW7bzt9erVK/RW9SXxkEk4cnHLFscT9exWUpPSadMxkFkv3kDnHsEXbP/xyj08O20jvxw8SdOW9Xnymf4MuPHc7SXTNHnuqU3859XdnDyRTfc+TXh6yUCataxfEZcjUm3k5eURH7+L6OgNRMdsYMeO3TidTlq3uoqIiCHY7f3p26cni/a+yuoDn5R6Pcay4DAdDGka7u4yypUCo3gms+ouTSDlb827PzAzMoY5UQPpHBrMa/O3c3f4O2zc+wANA85fDD5+yy88eMdqnpjTH/uQFqxe8T33R6zis5330bpd/lt9Xpr7Ff9eGM8Ly2/i8pC6PDdtI3eHv8P6H8Zis+lbqUhpHD78MzExsURHxxK78QtOnDhJvXp16R92LaPuvZsBA8Jo0uSyAsfc2uwvvP/TGjdVfI6BweU1L6Nzww7uLqVc6f6aeCTTU9eyUpCtFF55fht3jOnEiFEduaptI/4VNQibvxfvLP260PavL9hO2MDmjJ/Uk5ZtGjJpVj/adQli2aIdQP7o4uvzt/HQ1D6ED72Kth0CmP/GTSQfOcXnq/dW5KVJFbBscTw9my6mue0ZhoQuY9e2I0W2/3jlHvq1jqK57RkGtH+VmE/3F9hvmibPTt9Il8YLaO43l9vtKziw7/fyvIRSy8jIYO3n0Tw26R907tyHNm278dDDkzmalMSDfxvLhvWfcOjgD7z55qvcc89d54VFgOZ1QujQ4GosHvCo0G0tbvaYZeDKi/v/lEUKYTrdf4vhzwzDwOkBtz6kaDk5Dr7dcZRr7E1d2ywWg2vsIeyM+7XQY3bE/VqgPUC/8GbsONP+cOIJUpIyuMYe4tpfu46NTqHBrjYil+Ls6PcjT/Xls5330bZjAHeHv8OxlMLXsTk7+n376E6s3TWagRFXcX/EKhK+S3G1OTv6PSdqEP/dei/+Nby5O/wdsrLyKuqyLso0Tb759ntemL+YwUOG0eTy1tx66118/PFa+vTpydtvvc7PhxNYH/MJTz75GD16dMNqvfiz7H9rdz9ON65cYcFCkH8gNzUd6LYaKooCo3gkpzPPI39bczpKtiSPVJzfj53G4TBpFFjw1nPDwBqkJBX+Qzk1KZ2Gf2rfKLAGqUnpZ/ZnuPo4v42HL1gnHqU6jX6nph7j3ffeZ8zYv9O8RQd69bqOp59+Fl9fX2bPmsbOHZvZ80M8ixbNIyJiCHXr1in2OTo36sCIFrdg4J6fF06czOjxhMcuJF6W9OCNeCSnM6/Uy+qUNafTQVV+7ZOIlK+zo98TpvRybbuU0e+xkT0KbOsX3ozPV/8IXHz0e+jtJVtCrCRycnLYujU+/1nEmFh27/4G0zRp164td9wxHPuAMHr3DsXX17dMz/u3dqPZeORLUjJTK3S00cBgRItb6NSwfYWd050UGMVDmZjOPLB4FTs03nvvvdx7770X3B8bG1v8akwTp1Oji5VB/Yb+WK0GqckFR/6OJWcQEHT+hBeARkE1Ofan9qnJGTQKqnlmfw1XH4GNaxZoc3WnqvtmBylbRY1+70/4rdBjPH30+8CBg67ZzBs3biY9PYOGDRpw3YB+jBs3mgEDwmgcVL7/j9i8bMzt9U8eiJ1ItiMHJ+UfGi2Ghbb1WjG+/ehyP5en0C1p8Vh5eZnuLsHFMAzycj2nHrkwHx8r7bs2ZnPMQdc2p9Nkc8xBuvQ6/8F5gK69LivQHuCLdYl0PdP+ipC6BATVKNDmVFo2u7cecbURqQ5OnUrn448/Y+LEx2nfIZT2HUKZNHkqJ0+k8dijD7H5i/+RmPgd/166hLvvGlHuYfGsVvVa8kLfOXhbvLCUc7SxGBaa1w5hft9/YbOW7WipJ9MIo3isvLxsvH1qubsMTNPENB0aYaxExkb24JF7/kvHbo3p1COY1+ZvIzMjlxGj8pe9eHjkGoIuq8WUOf0BGP1wd4b1e4uX521lwODmfPTOD3wTf5RnXhkE5P/CMHpiDxbO/pKQlvXOLKuzicDgWoRHtHLbdUrlUhlHv51OJ19//W3+KGJ0LF9t3U5eXh7NmjXFPqA/A57ux7XX9qV2bfd/r+7cqAMv9Xuehzc/TmZeJo5yuj3dvn5bnu/7NDW9C/87q6oUGMWDmeTlZeLl5ef2Zxk1uli5/GVEW35LPc1z0zeRmpRB206BvLl2BI0C83+g/no4DYvl3L+pbr2bsGjFUOZO3cgzT8YS0rIer60e5lqDEeBvk3tyOiOHx8d+RtqJLLr3vZy31o7QGoxyyf44+j3wzC8aZ0e/753QtdBjzo5+3z/x3HOMFxr9PhsQz45+jxzfpcS1vvX2u0RHb2DD+k0c++03atasQb9+fXl27mzs9v40a9a0xH2Xp3YN2vDODUt5esc8tiRtw6Bsnjy3nnn72Nir7+Xuq0bgZSn928gqGyMjPVlP8YsHM/DzbwAYbgmNpmliOh1kZXn2mmZVzfEaC9xdQoWpl/Gwu0uQYijtv8017/7AI/f8l3+9PMg1+v3xewnEJoylUWDN80a/47f8wrB+bzHlX/1do9+Lnt5SYFH5xc/E8dK/4nhh+RDX6Peeb1JKtah8E+NpOnfuiH1AGHZ7f3r06IqPj0+prr0imabJZ4ejeW7XQjLyTmNglGh9X6thxWE6aFW3BTO6T6FZnaZlX2wloV+NxcOZ5GSfwtdW/OUWykp2Tprbzi0iVUtlGf0+mPg9jRo1LPmFuplhGNx45fWEXdaXtYejeXffBxw8dRirYcVpOosMj2fbAPRp3JPbmkfQLaCz2+90uZtGGKVS8PGtjdXqW6H/wzqdTpKTf6VO7erzULOn0AijlFrmCYz0ZIy8bEyLFbxsmHWagFfp/n+uLv82q9q/S9M0+fa3H9iWsoM9x3/k+9/3cDz7RIE2BgZX1GxCuwZtaFOvFdcG9yHQv5F7CvZAGmGUSiEn+xQ2m7VEy+yUhGmarF+/nttvH8Fbb77Gtdf2KfdzikjJGSd/xZrwMZaj32A5uhtLesp5bUzDitmwBc7GnXA06Y7jqnDwrvoLLkv+iGOHhlfToeG5dSnTck6RmZdJnjMPH6sPtXxqVatZz8WlwCiVhElW1glstnpgsZZraDRNE6cjh6vbNqVjx/b8ZegIFi2ax913jSi3c4pICZhOLAe/xGvXm1h/ioUz3xeMC8yONUwHRupejN9+wuubdzGjZ5DXcQR5He/ArHdlBRYunqC2Ty1qe8BKHJWF1mGUSsQkK+u4a3kb0yzbpynO9ufIyyI7+yR16tTmg/ff5q67buOBBx5i1qxnyvycIlIyxu8H8H1rOLZV92E9sAkDE8N0XjAsFjjWmf+OZSMnHa/4Zdheux7v2H9BblZ5ly1SaWmEUSoZk+ysE3h5+eHtU7PMXh+YHwRNsrPScDiyXdu9vb1Z9OI8mjULYfr02RxIPEjUkvll/morEblETgdeO5bhvWkenAmHhukocXdnj/XavhTrvnXkDH4OZ3DnMilVpCrRCKNUSnl5mWRl/o7TkQOUfLQxf1FuE0deFpmnfysQFs8yDINHI//Om2+8ykcffcKQIcM5dqzw13iJSDnKzcL3g7F4x/4Lw5lbqqD4ZwYmxslf8H17BNZv3iuzfkWqCgVGqbRM00F29kkyT/9GXl6mKzSeDYGFH3Nun+l0kpd7mqzM38jJOcXFlne95Za/8Nmn7/Pjvv1cN2Aw+/cfKNPrEZEi5Gbhu2oUloObKa8nmPNvZ5v4fv4PvHa+UU5nEamcFBil0jNNB7k56WSeTiUr8zi5uRk4HNk4nQ5M0+n6cDrzcORlkZuTTlbmcTIzj5Gbm4FZjNdHhYZ2J3bDp3hZveh/3Y18+eVX5XhlIgKA04HvRw9i+XXnJT2jWBpnw6hPzCys368u13OJVCZah1GkBI4fP8Gdd93HV19tJypqPiNuu9XdJVUp1WWtO6h6692VB6+tr+C96dlyG1ksjAlg9SFr1KdlPoM6PT2DTZs2Ex0dS8z6WPbvP4DVaqVnaHcGDOiH3d6fTp06YLVWv9fPiedSYBQpoZycHP7+0CTeeusdpk19nMcff6TavwmgrCgwylnGb/uxLbvJNbO5IpmGFWfjDmTf+Q4YJb8h53Q6+ebb74mO3kBM9AbivtpObm4uTZtegX1Af+z2MPr1u4batbXEi3guzZIWKSEfHx+ilsynWciVzJz1DD8dSGTxonmV6n2rIh7N6cDnk0ngpuWsDNOB9cguvHa+SV7Xe4p1bHJyCjHrNxIdvYH16zeSmnqMGjX86devL/+a80/s9v40bx6iXzKl0lBgFCkFwzB4/PFImoZcybhxE/nl519YseLf1KtX192liVR6lsSNWJO/c3cZeG95kbyOtxf5WsHs7Gy++mo70TEbiI6O5Ztv8uvu2LE9I0fegX1Af3r27K5fKKXSUmAUKQMjbruVy5s04fbb7+W66wbzwQdvExLS1N1lVWvLFscT9exWUpPSadMxkFkv3kDnHsEXbP/xyj08O20jvxw8SdOW9Xnymf4MuLGFa79pmjz31Cb+8+puTp7IpnufJjy9ZCDNWtaviMuplrx3voVpWEu0fM73KQ7mbM5hw8E8jp02aeBn0D/EypN9fbk6oHjPBhpZJ7H++DmOtn9xbTNNk/37DxAdvYHomA188cUWMjJOExDQiAEDwnjoofFc1/9aAgMDil27iCfSM4wiZWj//gPcOuwuThw/ybvvLqdnz+7uLqlSKu0zjGve/YGJI//LnKiBdA4N5rX52/lkZQIb9z5Aw4Aa57WP3/ILt177Jk/M6Y99SAtWr/iel56J47Od99G6Xf4P/MXPxLF4zhZeWH4Tl4fU5blpG0n4NpX1P4zFZiv57956hrFwxvFD2F67HuMiy10V5oM9udzxfib1/QxGd/YmpK6FgyecvL4rl98yTd651Y+b23hfcn+mYcEZ1IGUm15n48bNrpB46NDPeHt706tXD+z2/tjt/Wnfri0WixYgkapHgVGkjP322+/cccco4nfs4pWXFzJsWIS7S6p0ShsYh4Quo2P3xvzfonAAnE6T7pe/yKi/d2PCE73Paz9+xIeczshl+ce3ubbd1HMZV3cK5F9RgzBNk67BCxn7aCjjHusJQNrJLDoHLuD5ZUMYevvVJa5VgbFwXnGL8f7yxWKPLv70u5MOUelcUcfCpnv9aVTjXHg7dtrJNf8+zc8nnXwzvibN6hUv2LVYdJqffsujZcvm2AeEYbf3p2/f3tSsef4vISJVjX4NEiljDRrU57//fY+IiCHcc+8DPPvcAr2DugLl5Dj4dsdRrrE3dW2zWAyusYewM+7XQo/ZEfdrgfYA/cKbseNM+8OJJ0hJyuAae4hrf+06NjqFBrvaSNmyHPkaKP6ai89uyeZ0LrwyxFYgLAI09Lfw8hAbGbkw98vz3+p0MS8+fjc/fL+d3bu28NxzTzNw4PUKi1Jt6BlGkXLg6+vL668tpnmzEGbMeJrExIMsmD8Xb+9Lvw0mJfP7sdM4HCaNAgv+IG8YWIP9CYW/0jE1KZ2Gf2rfKLAGqUnpZ/ZnuPo4v01GWZUuf2A9+jVGCX7R+u+PeTSta3DNlYX/eLv2Si+a1jX4ZF/xlukxLV7Yr25A7pVXFLsmkapAI4wi5cQwDP7xj0m88sqLrFixkoib7+DEiZPuLkvE86WnYGT+XuzDTmaZHDll0jGw6EktHQKt/JJmciq7GIHUmYfl6NfFrkmkqlBgFClnd915G2s+epfdu7/Bbr+JQ4cOu7ukKq1+Q3+sVoPU5IIjf8eSMwgIKvz2YaOgmhz7U/vU5AwaBdU8s7+Gq4/z2+iWZFmznEoq0XGncvIDYC3fotc2rOWTvz+tGIHRAIy0oyWqS6QqUGAUqQDXXtuH9TGfkJWdRb+wQcTH73R3SVWWj4+V9l0bsznmoGub02myOeYgXXpdVugxXXtdVqA9wBfrEul6pv0VIXUJCKpRoM2ptGx2bz3iaiNlyFH85wvhXBC82MjhpQbL8+RllagukapAzzBKuUpOTuHEyTR3l1Hu6tapfdH11lq1asmG9Z8y4vZ7GDjoFl5/bTFDhw6uoAqrl7GRPXjknv/SsVtjOvUI5rX528jMyGXEqA4APDxyDUGX1WLKnP4AjH64O8P6vcXL87YyYHBzPnrnB76JP8ozrwwC8h8vGD2xBwtnf0lIy3pnltXZRGBwLcIjWrntOqsso2TvUK5jM2hc0+Cb5KJnVn+T7OCyWga1ixsYS1iXSFWgwCjlJjk5hb+OHEdWVtX/rdxms/HmG1EXDY2NGjXk00/eZ+zYv3PX3aOZPXs6Dz80Xq8HK2N/GdGW31JP89z0TaQmZdC2UyBvrh1Bo8D8W8y/Hk7DYjn3Z96tdxMWrRjK3KkbeebJWEJa1uO11cNcazAC/G1yT05n5PD42M9IO5FF976X89baEaVag1EKZxbxRpWLGXKVF6/uzGXz4Tz6XnH+380Xh/I4eMLkga4lmIDmXfK6RCo7rcMo5Wbvj/sZM+YhZs2aRUhIyMUPqKQSExOZNm0ar766kFZXtbj4AYDT6eSfM+fw3HMLGX3fSJ5/fg5eXgoeZ5V2HcbKROswFiInA78FnUu0aPe+3xx0jMogpF7+OowN/M89efV7psk1/87g4Akn34yrSfP6l/5UlmlYcLSwkxOxuNg1iVQF+gkl5S4kJITWrVu7uwyPYrFY+OeMf9CsWQgPPTSJQ4d/5s03XqV27VruLk3E/XxqYNa9AuPEoWIf2rKBleURftz1QSbtl2Tkv+ml3rk3vRw7bfKfW/2KFRbzGTiD2hW7HpGqQoFRxI3uGXknV1zehLvuHo39+pv44P23adJEkyikesrJySEubhvRMRvofzyV8MtMvK3Ff1xj+NXetG5oYc7mbFdIbOBv0L+plSev8aVdMd8lDWCYDpyBCoxSfSkwirhZ//7XEhP9Mbfcehf9wgaxauWbdO7c0d1liZQ70zTZv/8A0dEbiFkfy6ZNX5KRcZqGDRvQ+pYWeFn3lLjv9oFWVtzqX3a1WrxwNu5QZv2JVDYKjCIeoE2bVsRu+JTbRozkhvChLPt3FIMHD3R3WSJl7uTJNGJjvyAmJpbomA0cOvQz3t7e9OrZncmTH8Fu70+H9ldjyc2Al3p7xFI2psWKo9UgsNVxdykibqN1GMVjbdq0iZtuuong4GAMw2D16tUXPSY2NpYuXbrg6+tLixYtWLZs2XltFi9eTNOmTbHZbISGhrJt27ayL74EAgMD+OzTD7jefh0jbr+XxYtfcXdJIqXmcDjYvn0H//rX89ivv4nLr2jNnXfdx8ZNmxk08HpWrXyTX37ey2effchjjz5Ep47tsVgs4FuLvHa3YHrAUjaG00Fe57vdXYaIW2mEUTxWRkYGHTt25L777uOWW265aPvExEQGDx7MuHHjePvtt4mJieH++++ncePGhIeHA/Duu+8SGRlJVFQUoaGhzJ8/n/DwcPbu3UtAQNFL4lQEf39/3nrrNaZNn83kx6dx4EAizzwzSzOopVL59dcjRMfEEhO9gQ2xX/D778epXbsWYf2u4YXn/8WAAf1o2vTKi/aT1+lOvHevqICKL8w0LJj1m+MM7uzWOkTcTT+FxGMNGjSIQYMGXXL7qKgoQkJCmDdvHgBt2rRh8+bNvPDCC67A+PzzzzNmzBhGjRrlOuaTTz5h6dKlPPHEE2V/ESVgsVj4v9nTaRbSlEcin+DgocMsX/YKNWvqFXTimTIzM9n85Vf5zyJGx7InYS+GYdC1ayfGjhnFgAFhdO/eBW/v4q19aDZqRW6HEXh9uxLDdJZT9UUzTCfZ188ArZUq1ZwCo1QZcXFx2O32AtvCw8OZOHEikD8Dc8eOHUyZMsW132KxYLfbiYuLq8hSL8no0SO54srL+etf7+f6G/7C+6veIji4sbvLqhBBM552dwkVJntS5VuH0TRNfvghgeiYWKKjN/Dll1+RnZ1NcHBj7PYwnngikv79r6VBg/qlPldu2ONYD2yAjGMVHhpNw0Je57txXt6jQs8r4okUGKXKSEpKIjAwsMC2wMBA0tLSyMzM5Pjx4zgcjkLbJCQkVGSpl+x6e3+i1/2XW4fdTb+wQbz//tt0aH+1u8uSaui3335n/fqNxKyPJSZmI0eOHMVms9GnT09mzHgS+4Aw2rRpVfZvLfKtRc6gudhW3lu2/V6EaVgxawWSe82jFXpeEU+lwCji4dq1a0ts7GcMH/5Xrr/+JpYvf4WB4faLHyhSCrm5uWzbtsM1m3nnzq8xTZM2bVpx661Dsdv706d3KH5+fuVei7NpH3LCpuATO6fczwX5I4v4+JN962vgU3ZL84hUZgqMUmUEBQWRnJxcYFtycjK1a9fGz88Pq9WK1WottE1QUFBFllpsjYMC+Xzth4y6bzzDh/+Vec89zdixo9xdllQxiYkHiYnZSHT0BjZu2kxa2inq16/Hdf2v5f7778U+IMxtj0Xkdb8P8rLw2fxCuZ7HNKzg7U/WbW9gNmxZrucSqUwUGKXK6NWrF59++mmBbevWraNXr14A+Pj40LVrV2JiYoiIiADy3+kcExPDhAkTKrrcYqtRowb/WfFvpjw5g0cin+CnA4k8/X9PYbW6f9kRqZzS0zPYtGkz0dH5o4g//ZSI1WoltEc3Jj78NwYMCKNz544e828sr9ffwLc23utnA/lvXylLpmHBrBlA9rDXFRZF/kSBUTxWeno6+/fvd32dmJjI7t27qV+/PldccQVTpkzh119/5Y033gBg3LhxLFq0iMmTJ3Pfffexfv163nvvPT755BNXH5GRkdxzzz1069aNHj16MH/+fDIyMlyzpj2d1Wpl7jOzaBbSlEmTp3Lw4CGWvv4SNWpoBrVcnNPp5OtvvnPNZv5q63Zyc3Np2vQK7AP6M3vWdPr160udOrXdXeoF5XW5G0eTbvh++hik/oiBWeo+TcOCYTrJ63gHuf0mgY/+fxL5MwVG8Vjx8fH079/f9XVkZCQA99xzD8uWLePo0aMcPnzYtT8kJIRPPvmERx55hAULFtCkSRNee+0115I6ACNGjCA1NZXp06eTlJREp06dWLt27XkTYTzduHGjadr0CkbeM5bwgTezcuWbNA6qXNdQnjYdgnlbYOcROJoO74+Aoa2LPib2IEz6HL5Phctrw5PXwj2dCrZ5aVt+v0np0CEIFgyCHh7+6u+k5JT85xCjN7B+/UaOHfuNGjX86devL/+a80/s9v40bx5S9pNVypEZ0Jqsv36I17ZX8N76MuRmAkaxw6NpWDFMB2bdK8m+YSbOK3qWT8EiVYACo3issLAwTPPCPwAKe4tLWFgYu3btKrLfCRMmVIpb0BczcOD1/O9/axg27G7Cwgbx/qq3aNeurbvL8ggZOdAhEEZ1gmHvXbx94nH4ywoY2xXeuAXWJ8LYNRBUE8Jb5Ld57zt47H/w0mDo0QQWfgU3vgU/TIAADxqQys7OZsuWrcSsz38W8dtvvwegY8f23HPPndgH9Kdnz+74+Pi4udJSsnqT1+tB8rrei3XPx3jvWI7x2778yGjxwnDmnXeIiQGGJT8kGhYcLW8gr8tdOJv00DqLIhehwChSiXXq2J6NsZ9x67C7sV9/E2+++RrX2/tf/MAqblDL/I9L9XI8hNSF584MRrdpBF8ehgVfnQuML3wF93eBe8+88OOlIfDpPvj3Lni8b5mWXyymafLjj/vPzGaO5YsvvuT06UwCAhoxYEAYEyf+jev69yMgoJH7iixPPjVwdByBo8NtGL/tx5L0DZak77Ec/RrjVBKGIxsMC6aXDbPhVTiD2uMMaocjuBP4N3B39SKVhgKjSCV32WXBrPvfGu659wFuvfUu5r/wL+67b6S7y6pUvvoFBjQruO2G5hD5ef5/5zjyb28/8YdgaDHyj/nql4qr86wTJ04SG/sF0dEbiI6J5eeff8HHx4devXowZcpj2O39aXd1m/x3MlcXhoHZsCWOhi1xtLvV3dWIVDkKjCJVQK1aNXnv3eVMnjyNvz80iQOJh5j5z39Ur8BQCsnp599WDqgJadmQmQvHs8BhFtKmBiQcK//6HA4HO3bscs1m3r59J06nk6tatmDIkIHYB4RxzTW9NflJRMqNAqNIFeHl5cW8eU/TrHlTnnjiKRIPHOS11xZVyMLKUvZ++eXX/BHE6Fg2xG7ixImT1KlTm/5h17JwwVwGDAjjiisud3eZIlJNKDCKVCGGYTDhwQdoeuUVjLpvPINuvIV331lOYGCAu0vzaIE1ISWj4LaUdKjtC37eYLWA1SikTUb+xJiycPr0ab7YHJc/mzlmIwl7f8RisdCtW2f+Nn4MAwaE0a1bZ7y89G1bRCqevvOIVEFDhgzi87WrGTb8r/S/7kbeX/U2bdq0cndZHqtnE1i7v+C26AP52wF8rNAlGNYfOLc8j9PM//pvPUp37vkLXiI6egNbtmwlOzubyy4Lxm4P4x//mERY2DXUr1+vdCcQESkDCoxS7hITE91dQrny1Ovr0qUTG2M/45Zb72KAfQhvv/U6/ftf6+6yKkR6Duz//dzXicdhdxLU94Mr6sCT0XDkFCy7OX//A93gpe3w+DoY1Rk2JMLK72HNnef6eKQnjFoNXYOh+2X5y+pk5MK9nUpX6+zZc+nbtxczZ/4D+4D+tGrVslKtiSgi1YMCo5Sb3NxcLBYL06ZNc3cp5c5isZCbm+vuMs5z+eVNiF73X/46cgwRN9/BwoXPcs/IOy9+YCUXfwTsy899/dj/8j+P7AhLI/IX3j588tz+kHr54fCxz+HFrdCkNrzyl3NL6gDc1g5ST8OM2PzjOwbBJ3fl384ujV9+TsBms5WuExGRcqbAKOXG29sbp9PJ+PHjCQ4Odnc55ebIkSMsWbIEb29vd5dSqDp1avP+qreIjJzC3/72CIkHDjJ9+hNlMoPaNE1O5aaT7cjGxMTX4kMtn1pYDPfOzg5rCnlPXXj/0ojCj4l/oOh+H+yR/1GWFBZFpDJQYJRy16dPH1q3vsh72SqxhIQElixZ4u4yiuTt7c3Chc/SrHkIU6fOJPHgIV6OWlDssJLndPBV0ja+/u17fjieQMLxH0nPLTgTxGb15aq6Lbi6fmuurt+Ga4J7Y7P6luXliIhIBVNgFKkmDMPgkYkP0vTKK7h/zAQGDxnGO/9ZRqNGDS967LHM31id+Anv/7SG37OPYzWsOExHoW2zHNl889v3/PB7Av8x36eGlz9DQ27k5mY3cUWtJmV9WSIiUgG0qq9INXPzzTex9rMP+OmnRK4bMJgff9x/wbY5jhyWfPc6N316O6//8Ca/Zx8HuGBY/KO8M20y8k7zzv4PGP75PcyKf5ZTOellcyEiIlJhFBhFqqHu3bsSu+FTfLx9uG7AYL74Yst5bfYc/5G7o8eyPOE/OE0nTpwlPp/TzD/200P/47bP7yUuaVuJ+xIRkYqnwCgebfHixTRt2hSbzUZoaCjbthUdNFauXEnr1q2x2Wy0b9+eTz/9tMB+0zSZPn06jRs3xs/PD7vdzr59+8rzEjxW06ZXEhPzMR06tOOmv9zGiv+sdO37KPET7ov5Gz+n/4qJWWbndJpOjmefYOLmKSz57nVMs+z6FhGR8qPAKB7r3XffJTIykqeeeoqdO3fSsWNHwsPDSUlJKbT9li1buOOOOxg9ejS7du0iIiKCiIgIvvvuO1ebuXPnsnDhQqKioti6dSs1atQgPDycrKysirosj1K3bh1Wf/gfbr/9VsaMmcD//d+z/OfHVTy943mcmK6RwbJ0NoAuS1jBc7tfVGgUEakEFBjFYz3//POMGTOGUaNG0bZtW6KiovD392fp0qWFtl+wYAEDBw5k0qRJtGnThlmzZtGlSxcWLVoE5I8uzp8/n6lTpzJ06FA6dOjAG2+8wZEjR1i9enUFXpln8fHxYclL85nx1BRe2vwa87+puBnfq376iCXfvV5h5xMRkZLRLGnxSDk5OezYsYMpU6a4tlksFux2O3FxcYUeExcXR2RkZIFt4eHhrjCYmJhIUlISdrvdtb9OnTqEhoYSFxfH7bffXvYXUkkYhsEtY4fyfsjHOE1nhb5pZPne/9CxYXv6NA51bcuelFwmfR8+/DPR0RuIjo4lduMXnDyZRr16dekfdi0DBvRjwIAwLr9cM7dFRC5GgVE80rFjx3A4HAQGBhbYHhgYSEJCQqHHJCUlFdo+KSnJtf/stgu1qa7ynA6e2jYHi2Ep02cWL4WBwaz4uawMX04tn9K9NiUjI4MvvthCdEwsMdGx/LhvPxaLhe7duzDhwQew28Po2rUzVqu1jKoXEakeFBhFhLf2vsO+kz+55dwmJidz0njh68VM7/548Y41Tb759ntiYmKJjt5AXNw2cnJyuPzyJtgHhPHUU1MIC7uGunXrlFP1IiLVgwKjeKSGDRtitVpJTi54azI5OZmgoKBCjwkKCiqy/dnPycnJNG7cuECbTp06lWH1lUt6bgZL97zl1hqcppNPDv2Pe1rfyZW1Li+ybUpKKus3bCQ6OpaYmFhSUlLx9/fjmmv68H+zp2O396dly+YVeltdRKSqU2AUj+Tj40PXrl2JiYkhIiICAKfTSUxMDBMmTCj0mF69ehETE8PEiRNd29atW0evXr0ACAkJISgoiJiYGFdATEtLY+vWrYwfP748L8ejfXZoHTnOnBIfn52SzbFPj5H+fTp5x/MwvAxsTWzU7lGb+mH1sfhc2tw6q2Hhg5/+yyOd/lZge05ODl99tZ3omPxnEb/++lsA2re/mrvuGsGA6/rRu3covr56/aCISHlRYBSPFRkZyT333EO3bt3o0aMH8+fPJyMjg1GjRgEwcuRILrvsMubMmQPAww8/TL9+/Zg3bx6DBw/mnXfeIT4+nldeeQXIn9gxceJEZs+eTcuWLQkJCWHatGkEBwe7Qml1Y5om7+3/sMRPLZ7afYrDLx3G8DKo16cevpf5YuaZnN53muR3k8n+NZvLRl12SX05TCcfHfyUB66+lyOHkvInq8RsYNOmL8nIOE3Dhg0YMCCMBx8cy4ABYQQFBpSwahERKS4FRvFYI0aMIDU1lenTp5OUlESnTp1Yu3ata9LK4cOHsVjOjV717t2bFStWMHXqVJ588klatmzJ6tWradeunavN5MmTycjIYOzYsZw4cYK+ffuydu1abDZbhV+fJ9hzfC+H038p0bE5qTn8HPUzPg18aPp4U7zrerv2NbA3IDs5m1NfnypWn5l5mfQaOYD9/z2At7c3vXp2Z9Kkidjt/enYoV2Bv28REak4RkZ6slbNlXKx98f9jBnzEG+99RatW7d2dznlJiEhgbvvvptXX11Iq6tauLucYnlv/4c8v3txiWZGH1l+hN83/E6zfzTDv6V/mdRjOkyCk4MY2+IerrmmD7VqlW7WtIiIlA2NMIpUYwnHf8RiWHCYjmIfm7Y7De9G3mUWFgEMq0H9dvW58brwMutTRERKT/d3RKqxb3/7oURh0ZHpIO94HrYmZX8rf9+J/SWqSUREyo8Co0g1lpyZWqLjnJn575i22Mr+W0iOM5cT2SfLvF8RESk5BUaRaizXkVui4yx++d86nFnOsizHJduRXS79iohIySgwilRnJVzb2upnxauuF9m/lk+wM/StSUTEo+i7skg15mPxvnijC6jVqRY5KTmc3n+6DCvK52MteV0iIlL2NEtayl1iYqK7SyhXlfn6LqsRzE9pJau/4Y0NORl3kl+X/krI4yF41Sn47SQ7JZtTu0/R8IaGxerXZrVRz7duiWoSEZHyocAo5SY3NxeLxcK0adPcXUq5s1gs5OaW7HlAd2rXoA0HTx0u0axk3wBfmoxrws8v/cy+J/dRt3ddfJucedPL/tOkbU+jbt+6xe63db2WWAzd/BAR8SQKjFJuvL29cTqdjB8/nuDgYHeXU26OHDnCkiVL8PauPLdRjxw5Ssz6jXz143by2udhGCV7mLF259q0mNWCY58dI21XGnkbzrxL+nIbQbcHUa9fvWL152VYaVuv6i7yLiJSWSkwSrnr06dPlX/Ty5IlS9xdRpEyMzP5cstWoqM3EBMTyw8/JGAYBh3tHTA6lHDmyxm+Qb6X/L7oi8kzHXRoeHWZ9CUiImVHgVGkCjJNkx9+SCBm/Uaiozfw5ZdfkZWVRePGQdjtYUyeNJH+/a+lYcMG/DX6Afaf+AlnCV4PWNZq+9SiT1Cou8sQEZE/UWAUqSKOHfuNDRs2ER0TS0xMLEePJmGz2ejbtxdPPTUF+4Aw2rRpdd7t59ta3Mzs+GfdVPU5FsPCLc1uwsfq4+5SRETkTxQYRSqp3Nxctm6NJyYmluiYWHbt+hrTNGnbtjXDh9/MgAFh9Okdip+fX5H9XN8kjBd2LyYjr+yXxykO0zSJCBni1hrOSk5O4cTJNHeXUSHq1qlNYGCAu8sQEQ+nwCgebfHixTz77LMkJSXRsWNHXnzxRXr06HHB9itXrmTatGkcPHiQli1b8swzz3DjjTe69pumyVNPPcWrr77KiRMn6NOnD0uWLKFly5YVcTmlduDAQaKjNxAds4FNm77k1Kl0GjZoQP/rrmXs2FHYB4TRuHFQsfq0edmY0H4sz+yaXz5FXwIDg9tb3kLjGoFuq+Gs5OQU/jpyHFlZWe4upULYbDbefCNKoVFEiqTAKB7r3XffJTIykqioKEJDQ5k/fz7h4eHs3buXgIDzf7ht2bKFO+64gzlz5jBkyBBWrFhBREQEO3fupF27dgDMnTuXhQsXsnz5ckJCQpg2bRrh4eH88MMP2Gy2ir7Ei0pLO8XGjV8QE7OR6JgNJCYewsvLi56h3Xk08u8MGBBGp04dsFhKtwxNRLPBrPt5A1//9l2JltgpDYthIcg/gHFX31eh572QEyfTyMrKYtasWYSEhLi7nHKVmJjItGnTOHEyTYFRRIqkwCge6/nnn2fMmDGMGjUKgKioKD755BOWLl3KE088cV77BQsWMHDgQCZNmgTArFmzWLduHYsWLSIqKgrTNJk/fz5Tp05l6NChALzxxhsEBgayevVqbr/99oq7uAtwOBzs3v3NmdnMG9m6LZ68vDyaNw/hevt12O1hXHttX2rVqlmm57UYFqZ1n8zt/7sPp8OJWYETYJymkxndp2Dz8qzAHhISUqVn94uIFIcCo3iknJwcduzYwZQpU1zbLBYLdruduLi4Qo+Ji4sjMjKywLbw8HBWr14N5I+mJCUlYbfbXfvr1KlDaGgocXFxbguMv/56hOiYWNbHxLJ+wyZ+//04tWrVJKzfNcx77mkGDOhHSEjTcq8juEYQs0On8viW6RU6Xzqy44N0bNiuAs8oIiLFpcAoHunYsWM4HA4CAws+0xYYGEhCQkKhxyQlJRXaPikpybX/7LYLtakImZmZbP7yq/xRxOhY9iTsxTAMunbtxJj778Vu70/37l3cshD4tcG9mdHjSWZsexoTyn2kcXy70YxoeUu5nkNEREpPgVGknJmmyfff73Etd/Pll1+RnZ1NcHBj7PYwpkx5lLCwa2jQoL67SwUg/Irr8POyMfWrWeSZjjJ/ptFqWDBNk8hOExjeIqJM+xYRkfKhF7aKR2rYsCFWq5Xk5OQC25OTkwkKKnwWcFBQUJHtz34uTp8llZp6jPfe+4CxDzxEi5YdCe3Zn9mz52K1WvnnP58kfvsmfty7iyUvzefWW4d6TFg869rg3rwTvpT2DdqWab8GBpfXbMK/B7xUpcPipk2buOmmmwgODsYwDNdjEUWJjY2lS5cu+Pr60qJFC5YtW3Zem8WLF9O0aVNsNhuhoaFs27at7IsXESmEAqN4JB8fH7p27UpMTIxrm9PpJCYmhl69ehV6TK9evQq0B1i3bp2rfUhICEFBQQXapKWlsXXr1gv2WRy7dn3NUzP+j77X3EBIs3aMum88X3/9LSNG3Mp///sev/ycwOoP/8PfJ4wrdAFtTxNcozFL+j3PpM4P4eeVv5ajQQlqNvOP87Z4cW/ru3jr+ldoXe+qMq7Ws2RkZNCxY0cWL158Se0TExMZPHgw/fv3Z/fu3UycOJH777+fzz//3NXm7KoBTz31FDt37qRjx46Eh4eTkpJSXpchIuKiW9LisSIjI7nnnnvo1q0bPXr0YP78+WRkZLhmTY8cOZLLLruMOXPmAPDwww/Tr18/5s2bx+DBg3nnnXeIj4/nlVdeAcAwDCZOnMjs2bNp2bKla1md4OBgIiIiSl3vhAmPUsPfn+sG9GPcuNEMGBBG4yD3rytYGhbDwrDmQxl85Q387+f1vLvvQ35KS8TAwGJYLni72mJYwAQnTpwnnTx8zXhuahpOHd86FXwF7jFo0CAGDRp0ye2joqIICQlh3rx5ALRp04bNmzfzwgsvEB4eDhR/1QARkbKkwCgea8SIEaSmpjJ9+nSSkpLo1KkTa9eudU1aOXz4cIH1B3v37s2KFSuYOnUqTz75JC1btmT16tWuNRgBJk+eTEZGBmPHjuXEiRP07duXtWvXlskajEuXLmHI4PBSr4noify8/BgaMpi/NL2RvSf28e1vP7Dn+I989/sejmQcIdeZB4DVsBLg14h2DdrQpt5VZCZm8fCoSVy9qVW1CYslERcXV2D2PuTP8J84cSJQslUDRETKkgKjeLQJEyYwYcKEQvfFxsaet2348OEMHz78gv0ZhsHMmTOZOXNmWZXo0qpVyyoZFv/IMAxa17vqvFvKTtMJnBlZ/IO8ZnnMavAvVq5aTefOHSuszsrmQjP809LSyMzM5Pjx48VeNUBEpCxV7Z9uUiTDsGC1+uDtXQMf39r4+tbB11YXX986+PjUwsvLhsWi3ynk4iyG5bywCODl5cUtN/+FVatW43Q63VCZiIiUBQXGasfAy9sfm18D/Pwb4muri5e3P1arL1YvX6xWn/zPXja8fWph86uPn38jfHxrY7FU/LqAUvkNH34zv/56hK++2u7uUjzWhWb4165dGz8/vxKtGiAiUpYUGKsJw7Dg41MLP/+GeHvXwPjDaJBhGOfN2P3jNsMwsFp9sfnVw+ZXH6vVt0Jrl8qtZ8/uXHZZMKtWrXZ3KR7rYjP8S7JqgIhIWVJgrAasXrb8oOdlcwXB4i7pci48WvG11cHHtzaUZIkVqXYsFgu33jqUDz5cQ15enrvLqRDp6ens3r2b3bt3A/nL5uzevZvDhw8DMGXKFEaOHOlqP27cOA4cOMDkyZNJSEjgpZde4r333uORRx5xtYmMjOTVV19l+fLl7Nmzh/HjxxdYNUBEpDwpMFZpBj6+dfA9E+7KYt2/s31Yrb74+TfAYvUpdZ9S9Q0fFkFq6jE2ffGlu0upEPHx8XTu3JnOnTsD+WGvc+fOTJ8+HYCjR4+6wiPkrxH6ySefsG7dOjp27Mi8efN47bXXXEvqQP6qAc899xzTp0+nU6dO7N69u8CqASIi5UkzGqosA5utLsaZSStlvUi0YRiYJvj61iEn5xSOvKwy7V+qls6dO9KsWVNWrvyQ6/r3c3c55S4sLAzTvPB7uAt7i0tYWBi7du0qst+iVg0QESlPCoxV0rmwWJ5vE8kPjSY+PrXIMU0cjuxC2yUmJpZbDZ6gql9fWTAMg+HDbublV5Yy/4Vn8PXVc7AiIpWJAmMV5Otbu9zD4lmu0Ohbm+ys4zid555Rq1unNjabjWnTppV7He5ms9moW6e2u8vwaMOGRfDM3BeIiYnlxhvDL36AiIh4DAXGKsbqZcPqVbGjN38MjVmZv7u2BwYG8OYbUZw4mVaifpOTktm2bQfbtsWzPX4Xp06dolatmnTr2oUePbrQo0c3ghp7xpIidevUJjAwwN1leLS2bVvTtm1rVq5arcAoIlLJKDBWIWeXzjFNs0JGFwue2wCseHvXIDc3w7U9MDDgkoNURkYGX2yOIzp6A+tjNrL3x31YLBa6d+/C/aNHYreH0bVrZ7y89M+2sho+LILn5i3k9OnT+Pv7u7scERG5RPrJW4V4+9QEyn6Cy6UyjPxFwfPysjBNx0Xbm6bJN99+T0xMLNHRG4iL20ZOTg6XX94E+4Awpk17nLCwa6hXr275Fy8VYtiwm/nnzH/x2WfruPXWoe4uR0RELpECYxWR/5o/32KHxWXLljFq1Ci2b99Ot27dztsfFhbGsWPH+O677y65Ty9vP3Jz0gvdl5ycwvoNm/JHEddvJCUlFX9/P665pg//N3s6dnt/WrZs7rbQK+WrWbOmdO3aiVWrViswiohUIgqMVYSXl5+7SwDOjDJ62VyBMTs7m7i4bcSsjyU6OpZvvskPnh06tOPuu0cw4LowevXqoVmz1ciwYTczY8bTnDyZRh0PnihUHWa/V4drFJGyocBYRXh5+3nQqJzBF19s54X58/niiy85fTqTRo0aMmBAGA89NJ7+/a8lSBNEqq1bb/kLU6Y8xcefrOWuO29zdznnyc3NxWKxVIvZ/ZD/Jp7c3Fx3lyEiHk6BsQrIX0LHc17a43A4OJmWQVZWFlOmPMaAAWG0b9cWi8VzahT3ueyyYPr07snKlR96ZGD09vbG6XQyfvx4goOD3V1OuTpy5AhLlizB29vb3aWIiIdTYKwCLBavUs+MPnnyJMeOHTtve0lGHry8vLj11psZMjisxPVI1TZ8+M08+tiTHDv2Gw0bNnB3OYXq06cPrVu3dncZ5SohIYElS5a4uwwRqQQ05FMFWCylz/12u51GjRqd97Fly5YS9We1egOecotcPM3QoYMB+OijT9xciYiIXAqNMFYBFot3qZ9fXLx4MVddddV52x999FEcjosvkVN4XdYCb34ROSsgoBFhYdewatWHjB490t3liIjIRSgwVgFlMdmlR48ehS6rU69evUJvVV8SD3quUjzPsGER/O1vj3DkyFGCgxu7uxwRESmCfqKLiFv85aYb8fb25oMP17i7lHKxePFimjZtis1mIzQ0lG3bthXZfuXKlbRu3RqbzUb79u359NNPC+w3TZPp06fTuHFj/Pz8sNvt7Nu3rzwvQUTERYGxKjBNd1dQOE+tSzxC3bp1uOGG61i1arW7Sylz7777LpGRkTz11FPs3LmTjh07Eh4eTkpKSqHtt2zZwh133MHo0aPZtWsXERERREREFFgwf+7cuSxcuJCoqCi2bt1KjRo1CA8PJysrq6IuS0SqMQXGKsA0nZgeGM5M0+nuEsTDDbs1gu3bd3Lw4CF3l1Kmnn/+ecaMGcOoUaNo27YtUVFR+Pv7s3Tp0kLbL1iwgIEDBzJp0iTatGnDrFmz6NKlC4sWLQLyRxfnz5/P1KlTGTp0KB06dOCNN97gyJEjrF69ugKvTESqKwXGKsATJ5aYpnlJ75OW6u3GG2/A39+PVe9/5O5SykxOTg47duzAbre7tlksFux2O3FxcYUeExcXV6A9QHh4uKt9YmIiSUlJBdrUqVOH0NDQC/YpIlKWFBirAKczz4Pe8pLPE0OseJ4aNWpw46AbWLnyQ3eXUmaOHTuGw+EgMDCwwPbAwECSkpIKPSYpKanI9mc/F6dPEZGypMBYBTidJX+t17333otpmoXOkAaIjY0t8BzVpTBNs1Q1SfUyfPjNfPfdD+zZs9fdpYiIyAUoMFYBpunE4cj1mOcYDcPAkZft7jKkkrj++uuoU6c271eR29INGzbEarWSnJxcYHtycjJBQUGFHhMUFFRk+7Ofi9OniEhZUmCsIvLyMj3itnT+6GKeRhjlkvn6+nLTTTey6v3VHvNLT2n4+PjQtWtXYmJiXNucTicxMTH06tWr0GN69epVoD3AunXrXO1DQkIICgoq0CYtLY2tW7desE8RkbKkwFhFOPKyPGZWcl5uprtLkEpm2LAI9u37ia+/Kd7jD54qMjKSV199leXLl7Nnzx7Gjx9PRkYGo0aNAmDkyJFMmTLF1f7hhx9m7dq1zJs3j4SEBGbMmEF8fDwTJkwA8kftJ06cyOzZs1mzZg3ffvstI0eOJDg4mIiICHdcoohUM3rTSxWSm3sab+8abhtpzB8dMsnL07pwUjz9w66hYYMGrFz5IZ06tnd3OaU2YsQIUlNTmT59OklJSXTq1Im1a9e6Jq0cPnwYi+Xc7+u9e/dmxYoVTJ06lSeffJKWLVuyevVq2rVr52ozefJkMjIyGDt2LCdOnKBv376sXbsWm81W4dcnItWPkZGeXPnvAYmLzVYfw2J1W2jMzjqBw5HjlnNL5TZx4uOs/TyaH77fXiBMVbS9P+5nzJiHeOutt2jdurXb6qgICQkJ3H333bz66kJaXdXC3eWIiAfTLekqJjsnzS3nNU2TvNxMhUUpsWHDIvj551/Ytm2Hu0sREZE/UWCsYkxnHrk56RV7TtPENJ3kVPB5pWrp3TuUxo2DWLWq6qzJKCJSVSgwVkF5eZnk5mRUyLnOhsXsrOOAnm6QkrNYLNx661De/2ANeXla+F1ExJMoMFZRubkZrtBYXkuV/DEsesoMbancbht+MykpqXzxxRZ3lyIiIn+gwFiF5eZmkJ11EjDLNDSe7cvhyCYr83eFRSkzXbp0IiTkSla9v9rdpYiIyB8oMFZxDkc2mZm/uyajlCY45o8o5i+dk511kpzsNHQbWsqSYRgMuzWCjz76hJwcTaASEfEUWoexOjCd5GSfJC/PB28vPyxWH4BLXnrHNE0Mw8A0neTlZZ5ZmFtBUcrHsGERPPvcAtav38jAgde7rY7ExES3nbuiVIdrFJGyocBYjTgdOWQ7cjAMC15ngqPF4lVkcHQ6HTiduTjysrRkjlSIq69uQ5vWrXhv5YduCYy5ublYLBamTZtW4ed2B4vFQm6uXuUpIkVTYKyGTNNJbm4G5OZPijEMKxaLF5wNjmcmszideWgkUSqaYRgMHx7B8y8s4vTp0/j7+1fo+b29vXE6nYwfP57g4OAKPXdFO3LkCEuWLMHb29vdpYiIh1NgFEzTgcPhcHcZIi633hrBzFnP8PnnMdx8801uqaFPnz7V4k0vS5YscXcZIlIJaNKLiHicFi2a0blzR1atWu3uUkREBAVGEfFQw4ZF8NnadaSlnXJ3KSIi1Z4Co4h4pGG3DiU7O5uPP1nr7lJERKo9BUYR8UhNmlxG716hlfa29OLFi2natCk2m43Q0FC2bdtWZPuVK1fSunVrbDYb7du359NPPy2w3zRNpk+fTuPGjfHz88Nut7Nv377yvAQRERcFRhHxWMOGRRATE8tvv/3u7lKK5d133yUyMpKnnnqKnTt30rFjR8LDw0lJSSm0/ZYtW7jjjjsYPXo0u3btIiIigoiICL777jtXm7lz57Jw4UKioqLYunUrNWrUIDw8nKysrIq6LBGpxhQYRcRjRUQMwel0smbNJ+4upVief/55xowZw6hRo2jbti1RUVH4+/uzdOnSQtsvWLCAgQMHMmnSJNq0acOsWbPo0qULixYtAvJHF+fPn8/UqVMZOnQoHTp04I033uDIkSOsXr26Aq9MRKorBUYR8ViBgQH069eX91Z+6O5SLllOTg47duzAbre7tlksFux2O3FxcYUeExcXV6A9QHh4uKt9YmIiSUlJBdrUqVOH0NDQC/YpIlKWFBhFxKMNH34zX3yxhaNJye4u5ZIcO3YMh8NBYGBgge2BgYEkJSUVekxSUlKR7c9+Lk6fIiJlSYFRRDzaX266ES8vLz78YI27SxERqbYUGEXEo9WrV5frr+/PqvdXu7uUS9KwYUOsVivJyQVHRJOTkwkKCir0mKCgoCLbn/1cnD5FRMqSAqOIeLxhwyLYujWeQ4cOu7uUi/Lx8aFr167ExMS4tjmdTmJiYujVq1ehx/Tq1atAe4B169a52oeEhBAUFFSgTVpaGlu3br1gnyIiZUmBUUQ83uAbB+Ln58eq9z9ydymXJDIykldffZXly5ezZ88exo8fT0ZGBqNGjQJg5MiRTJkyxdX+4YcfZu3atcybN4+EhARmzJhBfHw8EyZMAMAwDCZOnMjs2bNZs2YN3377LSNHjiQ4OJiIiAh3XKKIVDNe7i5ARORiataswY2DrmfVqtU8Gvl3d5dzUSNGjCA1NZXp06eTlJREp06dWLt2rWvSyuHDh7FYzv2+3rt3b1asWMHUqVN58sknadmyJatXr6Zdu3auNpMnTyYjI4OxY8dy4sQJ+vbty9q1a7HZbBV+fSJS/RgZ6cmmu4sQEbmYNWs+5Y47R7Fzx2ZatWr5hz0GhmEA+esVQum+pe39cT9jxjzEW2+9RevWrUvVl6dLSEjg7rvv5tVXF9LqqhbuLkdEPJhGGEWkUrjhhuuoW7cO3333I+3adcJi9cZi8cIwCj5ZY5omTmceTmcuTmcejrxsShsiRUSqOwVGEfF8hoWateqTmHiQunXrnhlJxDWyWKCpYWA9EyYB8KlFXl4mebmZmKajIqsWEakyFBhFxKN5e9fAy9sfgLp18wNiYUHxz/7YxsvLD29vf/LyssjJPoVGHEVEikeBUUQ8kmHxwtenNobFekkBsci+zhxvtfri5+9DTvYpHI7ssihTRKRa0LI6IuJxrF42bLZ6ZRIW/yi/LwNfWx28fWqWWb8iIlWdAqOIeBQvLxu+vrWBS7v1XFxn+/Ty8sPHp1aZ9y8iUhXplrSIeAyr1RefcgyLf2QYBlYvG96Y5Oakn7c/MTGxXM/vCarDNYpI2VBgFBGPYBhWfHxrY5pmuYfFc+c08Pb2x+nIdT3TWLdObWw2G9OmTauQGtzNZrNRt05td5chIh5OC3eLiEfwtdU7s65ixYTFs84u9p15+jfOzp5OTk7hxMm0Cq3DXerWqU1gYIC7yxARD6fAKCJu5+Xlh7dPzQoPi2eZponDkU1OdvUIiSIixaVJLyLidt4+NdwWFiH/1rSXl+3cYt8iIlKAAqOIuJXVywYULywuW7YMwzCIj48vdH9YWBjt2rUrVp+maeLl5VesY0REqgsFRhFxK08JaWdnTRc3vIqIVAcKjCLiNoZhxWr1duvt6D/z8vJ1dwkiIh5HgVFE3MZi9T4zS9lzWCze7i5BRMTj6AlvEXGb0k4yOXnyJMeOHTtve25ubon6MwwDi1WBUUTkzxQYRcRtLJbS3Y622+0X3Hf11VeXqE/DsJa0HBGRKkuBUUTcxmIpXThbvHgxV1111XnbH330URwOR4n6NAwDw7BimiU7XkSkKlJgFJFKq0ePHnTr1u287fXq1Sv0VrWIiJSMJr2IiIiISJEUGEVEzuNZM7dFRNxNgVFE3MbpzPO4ZXVM08Q0ne4uQ0TEoygwiojbOJ157i7hPJ5Yk4iIuykwiojbOB25HvWWF9M0cTpLtoajiEhVZmSkJ3vW/SARqTYMw4Kff0N3l+FimiY5Oadw5GW5uxQREY+iEUYRcRvTdOJw5HjQc4ymwqKISCEUGEXErfJyMz3itrRpmuQpLIqIFEqBUUTcyuHIxnQ63T7KaBgGebmZbq1BRMRTKTCKiNvl5Jxy6yijaZrk5p7W6wBFRC5AgVFE3M7hyCYvL9sto4xn113Mzcmo8HOLiFQWCowi4hFyck4BZoWHRsMwyMlOQ293ERG5MAVGEfEMppPsrJP5/1mBoTEnJ11rL4qIXIQCo4h4DKczl+zsiguNuTkZ5OWeLvfziIhUdgqMIuJRnI4csrNOUF63p/OfWTTJyT5Fbq6eWxQRuRQKjCLicZzOXLIyf8fpyAHKbrQxPyw6yM46Tl6eltAREblUXu4uQESkMKbpJDv7JFaHDR+fmoCBaZrFXn7nj2EzL/e0RhVFREpAgVFEPJojL4vMvCysVl+8vP2xWr1dIfBC4fGP+03TSV7u6TNvcdFMaBGRklBgFJFKweHIxuHIxjCsWKzeWCzeWCxeWCwFv42ZpgOnMw+nIzf/s2ZAi4iUmgKjiFQqpunAkefAgd77LCJSUTTpRURERESKpMAoIiIiIkVSYBQRERGRIikwioiIiEiRFBhFREREpEgKjCIiIiJSJAVGERERESmSAqOIiIiIFEmBUURERESKpMAoIiIiIkVSYBQRERGRIikwioiIiEiRFBhFREREpEgKjCIiIiJSJAVGERERESmSAqOIiIiIFEmBUURERESKpMAoIiIiIkVSYBQRERGRIikwioiIiEiRFBhFREREpEgKjCIiIiJSJAVGERERESmSAqOIiIiIFEmBUURERESKpMAoIiIiIkVSYBQRERGRIikwioiIiEiRFBhFREREpEgKjCIiIiJSJAVGERERESmSAqOIiIiIFEmBUURERESKpMAoIiIiIkVSYBQRERGRIikwioiIiEiRFBhFREREpEgKjCIiIiJSJAVGERERESmSAqOIiIiIFEmBUURERESKpMAoIiIiIkVSYBQRERGRIikwioiIiEiRFBhFREREpEgKjCIiIiJSJAVGERERESmSAqOIiIiIFEmBUURERESKpMAoIiIiIkVSYBQRERGRIikwioiIiEiRFBhFREREpEgKjCIiIiJSJAVGERERESmSAqOIiIiIFEmBUURERESKpMAoIiIiIkVSYBQRERGRIikwioiIiEiRFBhFREREpEgKjCIiIiJSJAVGERERESmSAqOIiIiIFEmBUURERESKpMAoIiIiIkVSYBQRERGRIikwioiIiEiRFBhFREREpEgKjCIiIiJSJAVGERERESmSAqOIiIiIFEmBUURERESKpMAoIiIiIkVSYBQRERGRIikwioiIiEiRFBhFREREpEj/D2PCxaB0pfxNAAAAAElFTkSuQmCC\n"
          },
          "metadata": {
            "scrapbook": {
              "name": "dframe",
              "mime_prefix": "application/papermill.record/"
            }
          }
        },
        {
          "output_type": "display_data",
          "data": {
            "text/plain": [
              "<Figure size 800x500 with 1 Axes>"
            ],
            "image/png": "[encoded data removed]"
          },
          "metadata": {}
        }
      ],
      "source": [
        "def draw_vector(x, y, s, v, ax, cmap, **kwargs):\n",
        "    x += s / 2\n",
        "    y += s / 2\n",
        "    for vi in v:\n",
        "        if cmap is not None:\n",
        "            ax.add_patch(\n",
        "                mpl.patches.Rectangle((x, y), s * 1.5, s, facecolor=cmap(vi), **kwargs)\n",
        "            )\n",
        "        else:\n",
        "            ax.add_patch(\n",
        "                mpl.patches.Rectangle(\n",
        "                    (x, y), s * 1.5, s, facecolor=\"#FFF\", edgecolor=\"#333\", **kwargs\n",
        "                )\n",
        "            )\n",
        "        ax.text(\n",
        "            x + s * 1.5 / 2,\n",
        "            y + s / 2,\n",
        "            \"{:.2f}\".format(vi),\n",
        "            verticalalignment=\"center\",\n",
        "            horizontalalignment=\"center\",\n",
        "        )\n",
        "        y += s\n",
        "\n",
        "\n",
        "def draw_key(x, y, s, v, ax, cmap, **kwargs):\n",
        "    x += s / 2\n",
        "    y += s / 2\n",
        "    for vi in v:\n",
        "        ax.add_patch(\n",
        "            mpl.patches.Rectangle((x, y), s * 1.5, s, facecolor=cmap(1.0), **kwargs)\n",
        "        )\n",
        "        ax.text(\n",
        "            x + s * 1.5 / 2,\n",
        "            y + s / 2,\n",
        "            vi,\n",
        "            verticalalignment=\"center\",\n",
        "            horizontalalignment=\"center\",\n",
        "        )\n",
        "        y += s\n",
        "    ax.text(\n",
        "        x, y + s / 2, \"Key:\", verticalalignment=\"center\", horizontalalignment=\"left\"\n",
        "    )\n",
        "\n",
        "\n",
        "def draw(\n",
        "    nodes, adj, ax, highlight=None, key=False, labels=None, mask=None, draw_nodes=None\n",
        "):\n",
        "    G = nx.Graph()\n",
        "    for i in range(adj.shape[0]):\n",
        "        for j in range(adj.shape[0]):\n",
        "            if np.any(adj[i, j]):\n",
        "                G.add_edge(i, j)\n",
        "    if mask is None:\n",
        "        mask = [True] * len(G)\n",
        "    if draw_nodes is None:\n",
        "        draw_nodes = nodes\n",
        "    # go from atomic number to element\n",
        "    elements = np.argmax(draw_nodes, axis=-1)\n",
        "    el_labels = {i: list(my_elements.values())[e] for i, e in enumerate(elements)}\n",
        "    try:\n",
        "        pos = nx.nx_agraph.graphviz_layout(G, prog=\"sfdp\")\n",
        "    except ImportError:\n",
        "        pos = nx.spring_layout(G, iterations=100, seed=4, k=1)\n",
        "    pos = nx.rescale_layout_dict(pos)\n",
        "    c = [\"white\"] * len(G)\n",
        "    all_h = []\n",
        "    if highlight is not None:\n",
        "        for i, h in enumerate(highlight):\n",
        "            for hj in h:\n",
        "                c[hj] = \"C{}\".format(i + 1)\n",
        "                all_h.append(hj)\n",
        "    nx.draw(G, ax=ax, pos=pos, labels=el_labels, node_size=700, node_color=c)\n",
        "    cmap = plt.get_cmap(\"Wistia\")\n",
        "    for i in range(len(G)):\n",
        "        if not mask[i]:\n",
        "            continue\n",
        "        if i in all_h:\n",
        "            draw_vector(*pos[i], 0.15, nodes[i], ax, cmap)\n",
        "        else:\n",
        "            draw_vector(*pos[i], 0.15, nodes[i], ax, None)\n",
        "    if key:\n",
        "        draw_key(-1, -1, 0.15, my_elements.values(), ax, cmap)\n",
        "    if labels is not None:\n",
        "        legend_elements = []\n",
        "        for i, l in enumerate(labels):\n",
        "            p = mpl.lines.Line2D(\n",
        "                [0], [0], marker=\"o\", color=\"C{}\".format(i + 1), label=l, markersize=15\n",
        "            )\n",
        "            legend_elements.append(p)\n",
        "        ax.legend(handles=legend_elements)\n",
        "    ax.set_xlim(-1.2, 1.2)\n",
        "    ax.set_ylim(-1.2, 1.2)\n",
        "    ax.set_facecolor(\"#f5f4e9\")\n",
        "\n",
        "\n",
        "fig = plt.figure(figsize=(8, 5))\n",
        "draw(nodes, adj, plt.gca(), highlight=[[1], [5, 0]], labels=[\"center\", \"neighbors\"])\n",
        "fig.set_facecolor(\"#f5f4e9\")\n",
        "glue(\"dframe\", plt.gcf(), display=False)"
      ]
    },
    {
      "cell_type": "code",
      "execution_count": 8,
      "metadata": {
        "colab": {
          "base_uri": "https://localhost:8080/",
          "height": 1000
        },
        "id": "-fvAwidx6gUM",
        "outputId": "4c38684c-ea49-4fc6-e5bf-16e2744b8b41",
        "tags": [
          "remove-cell"
        ]
      },
      "outputs": [
        {
          "output_type": "stream",
          "name": "stdout",
          "text": [
            "[0] 0 5 0\n",
            "[False, False, False, False, False, True] 5\n",
            "MoviePy - Building file ../content/gcn.gif with imageio.\n"
          ]
        },
        {
          "output_type": "stream",
          "name": "stderr",
          "text": [
            "t:   4%|▍         | 2/48 [00:00<00:04, 10.86it/s, now=None]"
          ]
        },
        {
          "output_type": "stream",
          "name": "stdout",
          "text": [
            "[0] 0 5 0.0\n",
            "[False, False, False, False, False, True] 5\n",
            "[0] 0 5 0.5\n",
            "[False, False, False, False, False, True] 5\n",
            "[0] 0 5 1.0\n",
            "[False, False, False, False, False, True] 5\n"
          ]
        },
        {
          "output_type": "stream",
          "name": "stderr",
          "text": [
            "t:  10%|█         | 5/48 [00:00<00:07,  5.92it/s, now=None]"
          ]
        },
        {
          "output_type": "stream",
          "name": "stdout",
          "text": [
            "[0] 0 5 1.5\n",
            "[False, False, False, False, False, True] 5\n",
            "[0] 0 1 2.0\n",
            "[False, True, False, False, False, True] 1\n"
          ]
        },
        {
          "output_type": "stream",
          "name": "stderr",
          "text": [
            "\rt:  12%|█▎        | 6/48 [00:00<00:07,  5.72it/s, now=None]"
          ]
        },
        {
          "output_type": "stream",
          "name": "stdout",
          "text": [
            "[0] 0 1 2.5\n",
            "[False, True, False, False, False, True] 1\n"
          ]
        },
        {
          "output_type": "stream",
          "name": "stderr",
          "text": [
            "t:  17%|█▋        | 8/48 [00:01<00:08,  4.59it/s, now=None]"
          ]
        },
        {
          "output_type": "stream",
          "name": "stdout",
          "text": [
            "[0] 0 1 3.0\n",
            "[False, True, False, False, False, True] 1\n"
          ]
        },
        {
          "output_type": "stream",
          "name": "stderr",
          "text": [
            "\rt:  19%|█▉        | 9/48 [00:01<00:08,  4.64it/s, now=None]"
          ]
        },
        {
          "output_type": "stream",
          "name": "stdout",
          "text": [
            "[0] 0 1 3.5\n",
            "[False, True, False, False, False, True] 1\n",
            "[0] 0 0 4.0\n",
            "[True, True, False, False, False, True] 0\n"
          ]
        },
        {
          "output_type": "stream",
          "name": "stderr",
          "text": [
            "t:  23%|██▎       | 11/48 [00:02<00:07,  4.67it/s, now=None]"
          ]
        },
        {
          "output_type": "stream",
          "name": "stdout",
          "text": [
            "[0] 0 0 4.5\n",
            "[True, True, False, False, False, True] 0\n"
          ]
        },
        {
          "output_type": "stream",
          "name": "stderr",
          "text": [
            "\rt:  25%|██▌       | 12/48 [00:02<00:07,  4.62it/s, now=None]"
          ]
        },
        {
          "output_type": "stream",
          "name": "stdout",
          "text": [
            "[0] 0 0 5.0\n",
            "[True, True, False, False, False, True] 0\n",
            "[0] 0 0 5.5\n",
            "[True, True, False, False, False, True] 0\n"
          ]
        },
        {
          "output_type": "stream",
          "name": "stderr",
          "text": [
            "t:  29%|██▉       | 14/48 [00:02<00:07,  4.52it/s, now=None]"
          ]
        },
        {
          "output_type": "stream",
          "name": "stdout",
          "text": [
            "[0] 0 2 6.0\n",
            "[True, True, True, False, False, True] 2\n",
            "[0] 0 2 6.5\n",
            "[True, True, True, False, False, True] 2\n"
          ]
        },
        {
          "output_type": "stream",
          "name": "stderr",
          "text": [
            "\rt:  31%|███▏      | 15/48 [00:03<00:07,  4.45it/s, now=None]"
          ]
        },
        {
          "output_type": "stream",
          "name": "stdout",
          "text": [
            "[0] 0 2 7.0\n",
            "[True, True, True, False, False, True] 2\n"
          ]
        },
        {
          "output_type": "stream",
          "name": "stderr",
          "text": [
            "\rt:  33%|███▎      | 16/48 [00:03<00:07,  4.27it/s, now=None]"
          ]
        },
        {
          "output_type": "stream",
          "name": "stdout",
          "text": [
            "[0] 0 2 7.5\n",
            "[True, True, True, False, False, True] 2\n"
          ]
        },
        {
          "output_type": "stream",
          "name": "stderr",
          "text": [
            "\rt:  35%|███▌      | 17/48 [00:03<00:07,  4.25it/s, now=None]"
          ]
        },
        {
          "output_type": "stream",
          "name": "stdout",
          "text": [
            "[0] 0 3 8.0\n",
            "[True, True, True, True, False, True] 3\n"
          ]
        },
        {
          "output_type": "stream",
          "name": "stderr",
          "text": [
            "\rt:  38%|███▊      | 18/48 [00:04<00:08,  3.38it/s, now=None]"
          ]
        },
        {
          "output_type": "stream",
          "name": "stdout",
          "text": [
            "[0] 0 3 8.5\n",
            "[True, True, True, True, False, True] 3\n"
          ]
        },
        {
          "output_type": "stream",
          "name": "stderr",
          "text": [
            "\rt:  40%|███▉      | 19/48 [00:04<00:08,  3.41it/s, now=None]"
          ]
        },
        {
          "output_type": "stream",
          "name": "stdout",
          "text": [
            "[0] 0 3 9.0\n",
            "[True, True, True, True, False, True] 3\n"
          ]
        },
        {
          "output_type": "stream",
          "name": "stderr",
          "text": [
            "\rt:  42%|████▏     | 20/48 [00:04<00:08,  3.45it/s, now=None]"
          ]
        },
        {
          "output_type": "stream",
          "name": "stdout",
          "text": [
            "[0] 0 3 9.5\n",
            "[True, True, True, True, False, True] 3\n"
          ]
        },
        {
          "output_type": "stream",
          "name": "stderr",
          "text": [
            "\rt:  44%|████▍     | 21/48 [00:04<00:07,  3.46it/s, now=None]"
          ]
        },
        {
          "output_type": "stream",
          "name": "stdout",
          "text": [
            "[0] 0 4 10.0\n",
            "[True, True, True, True, True, True] 4\n"
          ]
        },
        {
          "output_type": "stream",
          "name": "stderr",
          "text": [
            "\rt:  46%|████▌     | 22/48 [00:05<00:07,  3.53it/s, now=None]"
          ]
        },
        {
          "output_type": "stream",
          "name": "stdout",
          "text": [
            "[0] 0 4 10.5\n",
            "[True, True, True, True, True, True] 4\n"
          ]
        },
        {
          "output_type": "stream",
          "name": "stderr",
          "text": [
            "\rt:  48%|████▊     | 23/48 [00:05<00:07,  3.53it/s, now=None]"
          ]
        },
        {
          "output_type": "stream",
          "name": "stdout",
          "text": [
            "[0] 0 4 11.0\n",
            "[True, True, True, True, True, True] 4\n"
          ]
        },
        {
          "output_type": "stream",
          "name": "stderr",
          "text": [
            "\rt:  50%|█████     | 24/48 [00:05<00:07,  3.30it/s, now=None]"
          ]
        },
        {
          "output_type": "stream",
          "name": "stdout",
          "text": [
            "[0] 0 4 11.5\n",
            "[True, True, True, True, True, True] 4\n"
          ]
        },
        {
          "output_type": "stream",
          "name": "stderr",
          "text": [
            "\rt:  52%|█████▏    | 25/48 [00:06<00:07,  3.21it/s, now=None]"
          ]
        },
        {
          "output_type": "stream",
          "name": "stdout",
          "text": [
            "recomputing\n",
            "[1] 1 5 0.0\n",
            "[False, False, False, False, False, True] 5\n"
          ]
        },
        {
          "output_type": "stream",
          "name": "stderr",
          "text": [
            "t:  56%|█████▋    | 27/48 [00:06<00:05,  3.68it/s, now=None]"
          ]
        },
        {
          "output_type": "stream",
          "name": "stdout",
          "text": [
            "[1] 1 5 0.5\n",
            "[False, False, False, False, False, True] 5\n",
            "[1] 1 5 1.0\n",
            "[False, False, False, False, False, True] 5\n"
          ]
        },
        {
          "output_type": "stream",
          "name": "stderr",
          "text": [
            "t:  60%|██████    | 29/48 [00:07<00:04,  3.83it/s, now=None]"
          ]
        },
        {
          "output_type": "stream",
          "name": "stdout",
          "text": [
            "[1] 1 5 1.5\n",
            "[False, False, False, False, False, True] 5\n",
            "[1] 1 1 2.0\n",
            "[False, True, False, False, False, True] 1\n"
          ]
        },
        {
          "output_type": "stream",
          "name": "stderr",
          "text": [
            "t:  65%|██████▍   | 31/48 [00:07<00:03,  4.54it/s, now=None]"
          ]
        },
        {
          "output_type": "stream",
          "name": "stdout",
          "text": [
            "[1] 1 1 2.5\n",
            "[False, True, False, False, False, True] 1\n",
            "[1] 1 1 3.0\n",
            "[False, True, False, False, False, True] 1\n"
          ]
        },
        {
          "output_type": "stream",
          "name": "stderr",
          "text": [
            "t:  69%|██████▉   | 33/48 [00:07<00:03,  4.80it/s, now=None]"
          ]
        },
        {
          "output_type": "stream",
          "name": "stdout",
          "text": [
            "[1] 1 1 3.5\n",
            "[False, True, False, False, False, True] 1\n",
            "[1] 1 0 4.0\n",
            "[True, True, False, False, False, True] 0\n"
          ]
        },
        {
          "output_type": "stream",
          "name": "stderr",
          "text": [
            "t:  73%|███████▎  | 35/48 [00:08<00:02,  4.87it/s, now=None]"
          ]
        },
        {
          "output_type": "stream",
          "name": "stdout",
          "text": [
            "[1] 1 0 4.5\n",
            "[True, True, False, False, False, True] 0\n",
            "[1] 1 0 5.0\n",
            "[True, True, False, False, False, True] 0\n"
          ]
        },
        {
          "output_type": "stream",
          "name": "stderr",
          "text": [
            "t:  77%|███████▋  | 37/48 [00:08<00:02,  4.87it/s, now=None]"
          ]
        },
        {
          "output_type": "stream",
          "name": "stdout",
          "text": [
            "[1] 1 0 5.5\n",
            "[True, True, False, False, False, True] 0\n",
            "[1] 1 2 6.0\n",
            "[True, True, True, False, False, True] 2\n"
          ]
        },
        {
          "output_type": "stream",
          "name": "stderr",
          "text": [
            "\rt:  79%|███████▉  | 38/48 [00:08<00:02,  4.76it/s, now=None]"
          ]
        },
        {
          "output_type": "stream",
          "name": "stdout",
          "text": [
            "[1] 1 2 6.5\n",
            "[True, True, True, False, False, True] 2\n"
          ]
        },
        {
          "output_type": "stream",
          "name": "stderr",
          "text": [
            "t:  83%|████████▎ | 40/48 [00:09<00:01,  4.31it/s, now=None]"
          ]
        },
        {
          "output_type": "stream",
          "name": "stdout",
          "text": [
            "[1] 1 2 7.0\n",
            "[True, True, True, False, False, True] 2\n",
            "[1] 1 2 7.5\n",
            "[True, True, True, False, False, True] 2\n"
          ]
        },
        {
          "output_type": "stream",
          "name": "stderr",
          "text": [
            "t:  88%|████████▊ | 42/48 [00:09<00:01,  4.65it/s, now=None]"
          ]
        },
        {
          "output_type": "stream",
          "name": "stdout",
          "text": [
            "[1] 1 3 8.0\n",
            "[True, True, True, True, False, True] 3\n",
            "[1] 1 3 8.5\n",
            "[True, True, True, True, False, True] 3\n"
          ]
        },
        {
          "output_type": "stream",
          "name": "stderr",
          "text": [
            "t:  92%|█████████▏| 44/48 [00:10<00:00,  4.78it/s, now=None]"
          ]
        },
        {
          "output_type": "stream",
          "name": "stdout",
          "text": [
            "[1] 1 3 9.0\n",
            "[True, True, True, True, False, True] 3\n",
            "[1] 1 3 9.5\n",
            "[True, True, True, True, False, True] 3\n"
          ]
        },
        {
          "output_type": "stream",
          "name": "stderr",
          "text": [
            "t:  96%|█████████▌| 46/48 [00:10<00:00,  4.72it/s, now=None]"
          ]
        },
        {
          "output_type": "stream",
          "name": "stdout",
          "text": [
            "[1] 1 4 10.0\n",
            "[True, True, True, True, True, True] 4\n",
            "[1] 1 4 10.5\n",
            "[True, True, True, True, True, True] 4\n"
          ]
        },
        {
          "output_type": "stream",
          "name": "stderr",
          "text": [
            "\rt:  98%|█████████▊| 47/48 [00:10<00:00,  4.59it/s, now=None]"
          ]
        },
        {
          "output_type": "stream",
          "name": "stdout",
          "text": [
            "[1] 1 4 11.0\n",
            "[True, True, True, True, True, True] 4\n"
          ]
        },
        {
          "output_type": "stream",
          "name": "stderr",
          "text": [
            "                                                            "
          ]
        },
        {
          "output_type": "stream",
          "name": "stdout",
          "text": [
            "[1] 1 4 11.5\n",
            "[True, True, True, True, True, True] 4\n"
          ]
        },
        {
          "output_type": "stream",
          "name": "stderr",
          "text": [
            "\r"
          ]
        },
        {
          "output_type": "display_data",
          "data": {
            "text/plain": [
              "<Figure size 1400x600 with 2 Axes>"
            ],
            "image/png": "[encoded data removed]"
          },
          "metadata": {}
        }
      ],
      "source": [
        "# THIS CELL IS USED TO GENERATE A FIGURE\n",
        "# AND NOT RELATED TO CHAPTER\n",
        "# YOU CAN SKIP IT\n",
        "fig, axs = plt.subplots(1, 2, squeeze=True, figsize=(14, 6), dpi=100)\n",
        "order = [5, 1, 0, 2, 3, 4]\n",
        "time_per_node = 2\n",
        "last_layer = [0]\n",
        "layers = 2\n",
        "input_nodes = np.copy(nodes)\n",
        "fig.set_facecolor(\"#f5f4e9\")\n",
        "\n",
        "\n",
        "def make_frame(t):\n",
        "    axs[0].clear()\n",
        "    axs[1].clear()\n",
        "\n",
        "    layer_i = int(t / (time_per_node * len(order)))\n",
        "    axs[0].set_title(f\"Layer {layer_i + 1} Input\")\n",
        "    axs[1].set_title(f\"Layer {layer_i + 1} Output\")\n",
        "\n",
        "    flat_adj = np.sum(adj, axis=-1)\n",
        "    out_nodes = np.einsum(\n",
        "        \"i,ij,jk->ik\",\n",
        "        1 / (np.sum(flat_adj, axis=1) + 1),\n",
        "        flat_adj + np.eye(*flat_adj.shape),\n",
        "        nodes,\n",
        "    )\n",
        "\n",
        "    if last_layer[0] != layer_i:\n",
        "        print(\"recomputing\")\n",
        "        nodes[:] = out_nodes\n",
        "        last_layer[0] = layer_i\n",
        "\n",
        "    t -= layer_i * time_per_node * len(order)\n",
        "    i = order[int(t / time_per_node)]\n",
        "    print(last_layer, layer_i, i, t)\n",
        "    mask = [False] * nodes.shape[0]\n",
        "    for j in order[: int(t / time_per_node) + 1]:\n",
        "        mask[j] = True\n",
        "    print(mask, i)\n",
        "    neighs = list(np.where(adj[i])[0])\n",
        "    if (t - int(t / time_per_node) * time_per_node) >= time_per_node / 4:\n",
        "        draw(\n",
        "            nodes,\n",
        "            adj,\n",
        "            axs[0],\n",
        "            highlight=[[i], neighs],\n",
        "            labels=[\"center\", \"neighbors\"],\n",
        "            draw_nodes=input_nodes,\n",
        "        )\n",
        "    else:\n",
        "        draw(\n",
        "            nodes,\n",
        "            adj,\n",
        "            axs[0],\n",
        "            highlight=[[i]],\n",
        "            labels=[\"center\", \"neighbors\"],\n",
        "            draw_nodes=input_nodes,\n",
        "        )\n",
        "    if (t - int(t / time_per_node) * time_per_node) < time_per_node / 2:\n",
        "        mask[j] = False\n",
        "    draw(\n",
        "        out_nodes,\n",
        "        adj,\n",
        "        axs[1],\n",
        "        highlight=[[i]],\n",
        "        key=True,\n",
        "        mask=mask,\n",
        "        draw_nodes=input_nodes,\n",
        "    )\n",
        "    fig.set_facecolor(\"#f5f4e9\")\n",
        "    return mplfig_to_npimage(fig)\n",
        "\n",
        "\n",
        "animation = VideoClip(make_frame, duration=time_per_node * nodes.shape[0] * layers)\n",
        "\n",
        "animation.write_gif(\"../content/gcn.gif\", fps=2)"
      ]
    },
    {
      "cell_type": "markdown",
      "metadata": {
        "id": "PYeMlIqiLMM-"
      },
      "source": [
        "### Exercise\n",
        "\n",
        "Let's repeat the same process for Ethanol `(CCO)`.\n",
        "\n",
        "1. Convert the smiles into the graph.\n",
        "2. How many nodes the graph contain? What is the number of rows and columns for the graph?\n",
        "3. Show the adjancy matrix for the Ethanol\n",
        "4. show the adjacancy list for ethanol\n",
        "5. Perform one-step of message passing for each atom in this molecules. Consider the identity matrix for weights."
      ]
    }
  ],
  "metadata": {
    "accelerator": "GPU",
    "colab": {
      "gpuType": "T4",
      "provenance": [],
      "include_colab_link": true
    },
    "kernelspec": {
      "display_name": "Python 3",
      "name": "python3"
    },
    "language_info": {
      "codemirror_mode": {
        "name": "ipython",
        "version": 3
      },
      "file_extension": ".py",
      "mimetype": "text/x-python",
      "name": "python",
      "nbconvert_exporter": "python",
      "pygments_lexer": "ipython3",
      "version": "3.10.12"
    }
  },
  "nbformat": 4,
  "nbformat_minor": 0
}