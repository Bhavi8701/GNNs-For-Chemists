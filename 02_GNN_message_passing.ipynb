{
  "nbformat": 4,
  "nbformat_minor": 0,
  "metadata": {
    "colab": {
      "provenance": [],
      "authorship_tag": "ABX9TyNxxuqa/HGfcnDgneYCGaeQ",
      "include_colab_link": true
    },
    "kernelspec": {
      "name": "python3",
      "display_name": "Python 3"
    },
    "language_info": {
      "name": "python"
    }
  },
  "cells": [
    {
      "cell_type": "markdown",
      "metadata": {
        "id": "view-in-github",
        "colab_type": "text"
      },
      "source": [
        "<a href=\"https://colab.research.google.com/github/HFooladi/GNNs-For-Chemists/blob/main/02_GNN_message_passing.ipynb\" target=\"_parent\"><img src=\"https://colab.research.google.com/assets/colab-badge.svg\" alt=\"Open In Colab\"/></a>"
      ]
    },
    {
      "cell_type": "markdown",
      "metadata": {
        "id": "TIIaYdD66gUL"
      },
      "source": [
        "## A Graph Neural Network\n",
        "\n",
        "After completing this chapter, you should be able to\n",
        "\n",
        "  * Discuss and categorize common graph neural network architectures\n",
        "  * Build a GNN and choose a read-out function for the type of labels\n",
        "\n",
        "A graph neural network (GNN) is a neural network with two defining attributes:\n",
        "\n",
        "1. Its input is a graph\n",
        "2. Its output is permutation equivariant\n",
        "\n",
        "We can understand clearly the first point. Here, a graph permutation means re-ordering our nodes. In our methanol example above, we could have easily made the carbon be atom 1 instead of atom 4. Our new adjacency matrix would then be:\n",
        "\n",
        "|    | 1  | 2  | 3  | 4  | 5  | 6  |\n",
        "|:---|----|----|----|----|----|---:|\n",
        "| 1  | 0  | 1  | 1  | 1  | 1  |  0 |\n",
        "| 2  | 1  | 0  | 0  | 0  | 0  |  0 |\n",
        "| 3  | 1  | 0  | 0  | 0  | 0  |  0 |\n",
        "| 4  | 1  | 0  | 0  | 0  | 1  |  0 |\n",
        "| 5  | 1  | 0  | 0  | 0  | 0  |  1 |\n",
        "| 6  | 0  | 0  | 0  | 0  | 1  |  0 |\n",
        "\n",
        "\n",
        "A GNN is permutation equivariant if the output change the same way as these exchanges. If you are trying to model a per-atom quantity like partial charge or chemical shift, this is obviously essential. If you change the order of atoms input, you would expect the order of their partial charges to similarly change.\n",
        "\n",
        "Often we want to model a whole-molecule property, like solubility or energy. This should be **invariant** to changing the order of the atoms. To make an equivariant model invariant, we use read-outs (defined below)."
      ]
    },
    {
      "cell_type": "markdown",
      "metadata": {
        "id": "ej4jE-qe6gUM"
      },
      "source": [
        "### A simple GNN\n",
        "\n",
        "We will often mention a GNN when we really mean a layer from a GNN. Most GNNs implement a specific layer that can deal with graphs, and so usually we are only concerned with this layer. Let's see an example of a simple layer for a GNN:\n",
        "\n",
        "\\begin{equation}\n",
        "f_k = \\sigma\\left( \\sum_i \\sum_j v_{ij}w_{jk}  \\right)\n",
        "\\end{equation}\n",
        "\n",
        "This equation shows that we first multiply every node ($v_{ij}$) feature by trainable weights $w_{jk}$, sum over all node features, and then apply an activation. This will yield a single feature vector for the graph. Is this equation permutation invariant? Yes, because the node index in our expression is index $i$ which can be re-ordered without affecting the output.\n",
        "\n",
        "Let's see an example that is similar, but not permutation invariant:\n",
        "\n",
        "\\begin{equation}\n",
        "f_k = \\sigma\\left( \\sum_i v_{ij}w_{ik}  \\right)\n",
        "\\end{equation}\n",
        "\n",
        "This is a small change. We have one weight vector per node now. This makes the trainable weights depend on the ordering of the nodes. Then if we swap the node ordering, our weights will no longer align. So if we were to input two methanol molecules, which should have the same output, but we switched two atom numbers, we would get different answers. These simple examples differ from real GNNs in two important ways: (i) they give a single feature vector output, which throws away per-node information, and (ii) they do not use the adjacency matrix. Let's see a real GNN that has these properties while maintaining permutation invariance --- or equivariance (swapping inputs swaps outputs the same way)."
      ]
    },
    {
      "cell_type": "markdown",
      "metadata": {
        "id": "dqOSkKSG6gUM"
      },
      "source": [
        "## Kipf & Welling GCN\n",
        "\n",
        "One of the first popular GNNs was the Kipf & Welling graph convolutional network (GCN) {cite}`kipf2016semi`. Although some people consider GCNs to be a broad class of GNNs, we'll use GCNs to refer specifically the Kipf & Welling GCN.\n",
        "Thomas Kipf has written an [excellent article introducing the GCN](https://tkipf.github.io/graph-convolutional-networks/).\n",
        "\n",
        "The input to a GCN layer is $\\mathbf{V}$, $\\mathbf{E}$ and it outputs an updated $\\mathbf{V}'$. Each node feature vector is updated. The way it updates a node feature vector is by averaging the feature vectors of its neighbors, as determined by $\\mathbf{E}$. The choice of averaging over neighbors is what makes a GCN layer permutation equivariant. Averaging over neighbors is not trainable, so we must add trainable parameters. We multiply the neighbor features by a trainable matrix before the averaging, which gives the GCN the ability to learn. In Einstein notation, this process is:\n",
        "\n",
        "$$\n",
        "v_{il} = \\sigma\\left(\\frac{1}{d_i}e_{ij}v_{jk}w_{kl}\\right)\n",
        "$$\n",
        "\n",
        "where $i$ is the node we're considering, $j$ is the neighbor index, $k$ is the node input feature, $l$ is the output node feature, $d_i$ is the degree of node i (which makes it an average instead of sum), $e_{ij}$ isolates neighbors so that all non-neighbor $v_{jk}$s are zero, $\\sigma$ is our activation, and $w_{lk}$ is the trainable weights. This equation is a mouthful, but it truly just is the average over neighbors with a trainable matrix thrown in. One common modification is to make all nodes neighbors of themselves. This is so that the output node features $v_{il}$ depends on the input features $v_{ik}$. We do not need to change our equation, just make the adjacency matrix have $1$s on the diagonal instead of $0$ by adding the identity matrix during pre-processing.\n",
        "\n",
        "Building understanding about the GCN is important for understanding other GNNs. You can view the GCN layer as a way to \"communicate\" between a node and its neighbors. The output for node $i$ will depend only on its immediate neighbors. For chemistry, this is not satisfactory. You can stack multiple layers though. If you have two layers, the output for node $i$ will include information about node $i$'s neighbors' neighbors. Another important detail to understand in GCNs is that the averaging procedure accomplishes two goals: (i) it gives permutation equivariance by removing the effect of neighbor order and (ii) it prevents a change in magnitude in node features. A sum would accomplish (i) but would cause the magnitude of the node features to grow after each layer. Of course, you could ad-hoc put a batch normalization layer after each GCN layer to keep output magnitudes stable but averaging is easy."
      ]
    },
    {
      "cell_type": "code",
      "source": [],
      "metadata": {
        "id": "4nhbHvrhlmI0"
      },
      "execution_count": null,
      "outputs": []
    },
    {
      "cell_type": "code",
      "execution_count": null,
      "metadata": {
        "tags": [
          "remove-cell"
        ],
        "colab": {
          "base_uri": "https://localhost:8080/",
          "height": 1000
        },
        "id": "-fvAwidx6gUM",
        "outputId": "0eabdc74-5760-479d-ad43-0d165f89cf73"
      },
      "outputs": [
        {
          "output_type": "stream",
          "name": "stdout",
          "text": [
            "[0] 0 5 0\n",
            "[False, False, False, False, False, True] 5\n",
            "MoviePy - Building file ../content/gcn.gif with imageio.\n"
          ]
        },
        {
          "output_type": "stream",
          "name": "stderr",
          "text": [
            "\rt:   0%|          | 0/48 [00:00<?, ?it/s, now=None]"
          ]
        },
        {
          "output_type": "stream",
          "name": "stdout",
          "text": [
            "[0] 0 5 0.0\n",
            "[False, False, False, False, False, True] 5\n"
          ]
        },
        {
          "output_type": "stream",
          "name": "stderr",
          "text": [
            "\rt:   4%|▍         | 2/48 [00:00<00:15,  2.94it/s, now=None]"
          ]
        },
        {
          "output_type": "stream",
          "name": "stdout",
          "text": [
            "[0] 0 5 0.5\n",
            "[False, False, False, False, False, True] 5\n"
          ]
        },
        {
          "output_type": "stream",
          "name": "stderr",
          "text": [
            "\rt:   6%|▋         | 3/48 [00:01<00:15,  2.94it/s, now=None]"
          ]
        },
        {
          "output_type": "stream",
          "name": "stdout",
          "text": [
            "[0] 0 5 1.0\n",
            "[False, False, False, False, False, True] 5\n"
          ]
        },
        {
          "output_type": "stream",
          "name": "stderr",
          "text": [
            "\rt:   8%|▊         | 4/48 [00:01<00:14,  2.94it/s, now=None]"
          ]
        },
        {
          "output_type": "stream",
          "name": "stdout",
          "text": [
            "[0] 0 5 1.5\n",
            "[False, False, False, False, False, True] 5\n"
          ]
        },
        {
          "output_type": "stream",
          "name": "stderr",
          "text": [
            "\rt:  10%|█         | 5/48 [00:02<00:19,  2.25it/s, now=None]"
          ]
        },
        {
          "output_type": "stream",
          "name": "stdout",
          "text": [
            "[0] 0 1 2.0\n",
            "[False, True, False, False, False, True] 1\n"
          ]
        },
        {
          "output_type": "stream",
          "name": "stderr",
          "text": [
            "\rt:  12%|█▎        | 6/48 [00:02<00:24,  1.72it/s, now=None]"
          ]
        },
        {
          "output_type": "stream",
          "name": "stdout",
          "text": [
            "[0] 0 1 2.5\n",
            "[False, True, False, False, False, True] 1\n"
          ]
        },
        {
          "output_type": "stream",
          "name": "stderr",
          "text": [
            "\rt:  15%|█▍        | 7/48 [00:03<00:30,  1.35it/s, now=None]"
          ]
        },
        {
          "output_type": "stream",
          "name": "stdout",
          "text": [
            "[0] 0 1 3.0\n",
            "[False, True, False, False, False, True] 1\n"
          ]
        },
        {
          "output_type": "stream",
          "name": "stderr",
          "text": [
            "\rt:  17%|█▋        | 8/48 [00:04<00:30,  1.32it/s, now=None]"
          ]
        },
        {
          "output_type": "stream",
          "name": "stdout",
          "text": [
            "[0] 0 1 3.5\n",
            "[False, True, False, False, False, True] 1\n"
          ]
        },
        {
          "output_type": "stream",
          "name": "stderr",
          "text": [
            "\rt:  19%|█▉        | 9/48 [00:05<00:26,  1.48it/s, now=None]"
          ]
        },
        {
          "output_type": "stream",
          "name": "stdout",
          "text": [
            "[0] 0 0 4.0\n",
            "[True, True, False, False, False, True] 0\n"
          ]
        },
        {
          "output_type": "stream",
          "name": "stderr",
          "text": [
            "\rt:  21%|██        | 10/48 [00:05<00:23,  1.60it/s, now=None]"
          ]
        },
        {
          "output_type": "stream",
          "name": "stdout",
          "text": [
            "[0] 0 0 4.5\n",
            "[True, True, False, False, False, True] 0\n"
          ]
        },
        {
          "output_type": "stream",
          "name": "stderr",
          "text": [
            "\rt:  23%|██▎       | 11/48 [00:06<00:21,  1.75it/s, now=None]"
          ]
        },
        {
          "output_type": "stream",
          "name": "stdout",
          "text": [
            "[0] 0 0 5.0\n",
            "[True, True, False, False, False, True] 0\n"
          ]
        },
        {
          "output_type": "stream",
          "name": "stderr",
          "text": [
            "\rt:  25%|██▌       | 12/48 [00:06<00:20,  1.72it/s, now=None]"
          ]
        },
        {
          "output_type": "stream",
          "name": "stdout",
          "text": [
            "[0] 0 0 5.5\n",
            "[True, True, False, False, False, True] 0\n"
          ]
        },
        {
          "output_type": "stream",
          "name": "stderr",
          "text": [
            "\rt:  27%|██▋       | 13/48 [00:07<00:19,  1.79it/s, now=None]"
          ]
        },
        {
          "output_type": "stream",
          "name": "stdout",
          "text": [
            "[0] 0 2 6.0\n",
            "[True, True, True, False, False, True] 2\n"
          ]
        },
        {
          "output_type": "stream",
          "name": "stderr",
          "text": [
            "\rt:  29%|██▉       | 14/48 [00:07<00:18,  1.82it/s, now=None]"
          ]
        },
        {
          "output_type": "stream",
          "name": "stdout",
          "text": [
            "[0] 0 2 6.5\n",
            "[True, True, True, False, False, True] 2\n"
          ]
        },
        {
          "output_type": "stream",
          "name": "stderr",
          "text": [
            "\rt:  31%|███▏      | 15/48 [00:08<00:17,  1.91it/s, now=None]"
          ]
        },
        {
          "output_type": "stream",
          "name": "stdout",
          "text": [
            "[0] 0 2 7.0\n",
            "[True, True, True, False, False, True] 2\n"
          ]
        },
        {
          "output_type": "stream",
          "name": "stderr",
          "text": [
            "\rt:  33%|███▎      | 16/48 [00:08<00:15,  2.02it/s, now=None]"
          ]
        },
        {
          "output_type": "stream",
          "name": "stdout",
          "text": [
            "[0] 0 2 7.5\n",
            "[True, True, True, False, False, True] 2\n"
          ]
        },
        {
          "output_type": "stream",
          "name": "stderr",
          "text": [
            "\rt:  35%|███▌      | 17/48 [00:09<00:22,  1.39it/s, now=None]"
          ]
        },
        {
          "output_type": "stream",
          "name": "stdout",
          "text": [
            "[0] 0 3 8.0\n",
            "[True, True, True, True, False, True] 3\n"
          ]
        },
        {
          "output_type": "stream",
          "name": "stderr",
          "text": [
            "\rt:  38%|███▊      | 18/48 [00:10<00:20,  1.43it/s, now=None]"
          ]
        },
        {
          "output_type": "stream",
          "name": "stdout",
          "text": [
            "[0] 0 3 8.5\n",
            "[True, True, True, True, False, True] 3\n"
          ]
        },
        {
          "output_type": "stream",
          "name": "stderr",
          "text": [
            "\rt:  40%|███▉      | 19/48 [00:11<00:18,  1.54it/s, now=None]"
          ]
        },
        {
          "output_type": "stream",
          "name": "stdout",
          "text": [
            "[0] 0 3 9.0\n",
            "[True, True, True, True, False, True] 3\n"
          ]
        },
        {
          "output_type": "stream",
          "name": "stderr",
          "text": [
            "\rt:  42%|████▏     | 20/48 [00:11<00:17,  1.57it/s, now=None]"
          ]
        },
        {
          "output_type": "stream",
          "name": "stdout",
          "text": [
            "[0] 0 3 9.5\n",
            "[True, True, True, True, False, True] 3\n"
          ]
        },
        {
          "output_type": "stream",
          "name": "stderr",
          "text": [
            "\rt:  44%|████▍     | 21/48 [00:12<00:15,  1.72it/s, now=None]"
          ]
        },
        {
          "output_type": "stream",
          "name": "stdout",
          "text": [
            "[0] 0 4 10.0\n",
            "[True, True, True, True, True, True] 4\n"
          ]
        },
        {
          "output_type": "stream",
          "name": "stderr",
          "text": [
            "\rt:  46%|████▌     | 22/48 [00:12<00:14,  1.80it/s, now=None]"
          ]
        },
        {
          "output_type": "stream",
          "name": "stdout",
          "text": [
            "[0] 0 4 10.5\n",
            "[True, True, True, True, True, True] 4\n"
          ]
        },
        {
          "output_type": "stream",
          "name": "stderr",
          "text": [
            "\rt:  48%|████▊     | 23/48 [00:13<00:14,  1.74it/s, now=None]"
          ]
        },
        {
          "output_type": "stream",
          "name": "stdout",
          "text": [
            "[0] 0 4 11.0\n",
            "[True, True, True, True, True, True] 4\n"
          ]
        },
        {
          "output_type": "stream",
          "name": "stderr",
          "text": [
            "\rt:  50%|█████     | 24/48 [00:13<00:13,  1.76it/s, now=None]"
          ]
        },
        {
          "output_type": "stream",
          "name": "stdout",
          "text": [
            "[0] 0 4 11.5\n",
            "[True, True, True, True, True, True] 4\n"
          ]
        },
        {
          "output_type": "stream",
          "name": "stderr",
          "text": [
            "\rt:  52%|█████▏    | 25/48 [00:14<00:12,  1.77it/s, now=None]"
          ]
        },
        {
          "output_type": "stream",
          "name": "stdout",
          "text": [
            "recomputing\n",
            "[1] 1 5 0.0\n",
            "[False, False, False, False, False, True] 5\n"
          ]
        },
        {
          "output_type": "stream",
          "name": "stderr",
          "text": [
            "\rt:  54%|█████▍    | 26/48 [00:15<00:13,  1.69it/s, now=None]"
          ]
        },
        {
          "output_type": "stream",
          "name": "stdout",
          "text": [
            "[1] 1 5 0.5\n",
            "[False, False, False, False, False, True] 5\n"
          ]
        },
        {
          "output_type": "stream",
          "name": "stderr",
          "text": [
            "\rt:  56%|█████▋    | 27/48 [00:16<00:14,  1.43it/s, now=None]"
          ]
        },
        {
          "output_type": "stream",
          "name": "stdout",
          "text": [
            "[1] 1 5 1.0\n",
            "[False, False, False, False, False, True] 5\n"
          ]
        },
        {
          "output_type": "stream",
          "name": "stderr",
          "text": [
            "\rt:  58%|█████▊    | 28/48 [00:17<00:15,  1.27it/s, now=None]"
          ]
        },
        {
          "output_type": "stream",
          "name": "stdout",
          "text": [
            "[1] 1 5 1.5\n",
            "[False, False, False, False, False, True] 5\n"
          ]
        },
        {
          "output_type": "stream",
          "name": "stderr",
          "text": [
            "\rt:  60%|██████    | 29/48 [00:18<00:16,  1.13it/s, now=None]"
          ]
        },
        {
          "output_type": "stream",
          "name": "stdout",
          "text": [
            "[1] 1 1 2.0\n",
            "[False, True, False, False, False, True] 1\n"
          ]
        },
        {
          "output_type": "stream",
          "name": "stderr",
          "text": [
            "\rt:  62%|██████▎   | 30/48 [00:19<00:17,  1.05it/s, now=None]"
          ]
        },
        {
          "output_type": "stream",
          "name": "stdout",
          "text": [
            "[1] 1 1 2.5\n",
            "[False, True, False, False, False, True] 1\n"
          ]
        },
        {
          "output_type": "stream",
          "name": "stderr",
          "text": [
            "\rt:  65%|██████▍   | 31/48 [00:20<00:17,  1.01s/it, now=None]"
          ]
        },
        {
          "output_type": "stream",
          "name": "stdout",
          "text": [
            "[1] 1 1 3.0\n",
            "[False, True, False, False, False, True] 1\n"
          ]
        },
        {
          "output_type": "stream",
          "name": "stderr",
          "text": [
            "\rt:  67%|██████▋   | 32/48 [00:20<00:13,  1.15it/s, now=None]"
          ]
        },
        {
          "output_type": "stream",
          "name": "stdout",
          "text": [
            "[1] 1 1 3.5\n",
            "[False, True, False, False, False, True] 1\n"
          ]
        },
        {
          "output_type": "stream",
          "name": "stderr",
          "text": [
            "\rt:  69%|██████▉   | 33/48 [00:21<00:11,  1.32it/s, now=None]"
          ]
        },
        {
          "output_type": "stream",
          "name": "stdout",
          "text": [
            "[1] 1 0 4.0\n",
            "[True, True, False, False, False, True] 0\n"
          ]
        },
        {
          "output_type": "stream",
          "name": "stderr",
          "text": [
            "\rt:  71%|███████   | 34/48 [00:22<00:10,  1.34it/s, now=None]"
          ]
        },
        {
          "output_type": "stream",
          "name": "stdout",
          "text": [
            "[1] 1 0 4.5\n",
            "[True, True, False, False, False, True] 0\n"
          ]
        },
        {
          "output_type": "stream",
          "name": "stderr",
          "text": [
            "\rt:  73%|███████▎  | 35/48 [00:22<00:10,  1.29it/s, now=None]"
          ]
        },
        {
          "output_type": "stream",
          "name": "stdout",
          "text": [
            "[1] 1 0 5.0\n",
            "[True, True, False, False, False, True] 0\n"
          ]
        },
        {
          "output_type": "stream",
          "name": "stderr",
          "text": [
            "\rt:  75%|███████▌  | 36/48 [00:23<00:08,  1.40it/s, now=None]"
          ]
        },
        {
          "output_type": "stream",
          "name": "stdout",
          "text": [
            "[1] 1 0 5.5\n",
            "[True, True, False, False, False, True] 0\n"
          ]
        },
        {
          "output_type": "stream",
          "name": "stderr",
          "text": [
            "\rt:  77%|███████▋  | 37/48 [00:24<00:08,  1.36it/s, now=None]"
          ]
        },
        {
          "output_type": "stream",
          "name": "stdout",
          "text": [
            "[1] 1 2 6.0\n",
            "[True, True, True, False, False, True] 2\n"
          ]
        },
        {
          "output_type": "stream",
          "name": "stderr",
          "text": [
            "\rt:  79%|███████▉  | 38/48 [00:25<00:07,  1.30it/s, now=None]"
          ]
        },
        {
          "output_type": "stream",
          "name": "stdout",
          "text": [
            "[1] 1 2 6.5\n",
            "[True, True, True, False, False, True] 2\n"
          ]
        },
        {
          "output_type": "stream",
          "name": "stderr",
          "text": [
            "\rt:  81%|████████▏ | 39/48 [00:25<00:06,  1.31it/s, now=None]"
          ]
        },
        {
          "output_type": "stream",
          "name": "stdout",
          "text": [
            "[1] 1 2 7.0\n",
            "[True, True, True, False, False, True] 2\n"
          ]
        },
        {
          "output_type": "stream",
          "name": "stderr",
          "text": [
            "\rt:  83%|████████▎ | 40/48 [00:26<00:05,  1.34it/s, now=None]"
          ]
        },
        {
          "output_type": "stream",
          "name": "stdout",
          "text": [
            "[1] 1 2 7.5\n",
            "[True, True, True, False, False, True] 2\n"
          ]
        },
        {
          "output_type": "stream",
          "name": "stderr",
          "text": [
            "\rt:  85%|████████▌ | 41/48 [00:27<00:05,  1.32it/s, now=None]"
          ]
        },
        {
          "output_type": "stream",
          "name": "stdout",
          "text": [
            "[1] 1 3 8.0\n",
            "[True, True, True, True, False, True] 3\n"
          ]
        },
        {
          "output_type": "stream",
          "name": "stderr",
          "text": [
            "\rt:  88%|████████▊ | 42/48 [00:27<00:03,  1.55it/s, now=None]"
          ]
        },
        {
          "output_type": "stream",
          "name": "stdout",
          "text": [
            "[1] 1 3 8.5\n",
            "[True, True, True, True, False, True] 3\n"
          ]
        },
        {
          "output_type": "stream",
          "name": "stderr",
          "text": [
            "\rt:  90%|████████▉ | 43/48 [00:28<00:02,  1.84it/s, now=None]"
          ]
        },
        {
          "output_type": "stream",
          "name": "stdout",
          "text": [
            "[1] 1 3 9.0\n",
            "[True, True, True, True, False, True] 3\n"
          ]
        },
        {
          "output_type": "stream",
          "name": "stderr",
          "text": [
            "\rt:  92%|█████████▏| 44/48 [00:28<00:01,  2.16it/s, now=None]"
          ]
        },
        {
          "output_type": "stream",
          "name": "stdout",
          "text": [
            "[1] 1 3 9.5\n",
            "[True, True, True, True, False, True] 3\n"
          ]
        },
        {
          "output_type": "stream",
          "name": "stderr",
          "text": [
            "\rt:  94%|█████████▍| 45/48 [00:28<00:01,  2.46it/s, now=None]"
          ]
        },
        {
          "output_type": "stream",
          "name": "stdout",
          "text": [
            "[1] 1 4 10.0\n",
            "[True, True, True, True, True, True] 4\n"
          ]
        },
        {
          "output_type": "stream",
          "name": "stderr",
          "text": [
            "\rt:  96%|█████████▌| 46/48 [00:29<00:00,  2.14it/s, now=None]"
          ]
        },
        {
          "output_type": "stream",
          "name": "stdout",
          "text": [
            "[1] 1 4 10.5\n",
            "[True, True, True, True, True, True] 4\n"
          ]
        },
        {
          "output_type": "stream",
          "name": "stderr",
          "text": [
            "\rt:  98%|█████████▊| 47/48 [00:29<00:00,  2.41it/s, now=None]"
          ]
        },
        {
          "output_type": "stream",
          "name": "stdout",
          "text": [
            "[1] 1 4 11.0\n",
            "[True, True, True, True, True, True] 4\n"
          ]
        },
        {
          "output_type": "stream",
          "name": "stderr",
          "text": [
            "\rt: 100%|██████████| 48/48 [00:29<00:00,  2.42it/s, now=None]"
          ]
        },
        {
          "output_type": "stream",
          "name": "stdout",
          "text": [
            "[1] 1 4 11.5\n",
            "[True, True, True, True, True, True] 4\n"
          ]
        },
        {
          "output_type": "stream",
          "name": "stderr",
          "text": []
        },
        {
          "output_type": "display_data",
          "data": {
            "text/plain": [
              "<Figure size 1400x600 with 2 Axes>"
            ],
            "image/png": "[encoded data removed]"
          },
          "metadata": {}
        }
      ],
      "source": [
        "# THIS CELL IS USED TO GENERATE A FIGURE\n",
        "# AND NOT RELATED TO CHAPTER\n",
        "# YOU CAN SKIP IT\n",
        "fig, axs = plt.subplots(1, 2, squeeze=True, figsize=(14, 6), dpi=100)\n",
        "order = [5, 1, 0, 2, 3, 4]\n",
        "time_per_node = 2\n",
        "last_layer = [0]\n",
        "layers = 2\n",
        "input_nodes = np.copy(nodes)\n",
        "fig.set_facecolor(\"#f5f4e9\")\n",
        "\n",
        "\n",
        "def make_frame(t):\n",
        "    axs[0].clear()\n",
        "    axs[1].clear()\n",
        "\n",
        "    layer_i = int(t / (time_per_node * len(order)))\n",
        "    axs[0].set_title(f\"Layer {layer_i + 1} Input\")\n",
        "    axs[1].set_title(f\"Layer {layer_i + 1} Output\")\n",
        "\n",
        "    flat_adj = np.sum(adj, axis=-1)\n",
        "    out_nodes = np.einsum(\n",
        "        \"i,ij,jk->ik\",\n",
        "        1 / (np.sum(flat_adj, axis=1) + 1),\n",
        "        flat_adj + np.eye(*flat_adj.shape),\n",
        "        nodes,\n",
        "    )\n",
        "\n",
        "    if last_layer[0] != layer_i:\n",
        "        print(\"recomputing\")\n",
        "        nodes[:] = out_nodes\n",
        "        last_layer[0] = layer_i\n",
        "\n",
        "    t -= layer_i * time_per_node * len(order)\n",
        "    i = order[int(t / time_per_node)]\n",
        "    print(last_layer, layer_i, i, t)\n",
        "    mask = [False] * nodes.shape[0]\n",
        "    for j in order[: int(t / time_per_node) + 1]:\n",
        "        mask[j] = True\n",
        "    print(mask, i)\n",
        "    neighs = list(np.where(adj[i])[0])\n",
        "    if (t - int(t / time_per_node) * time_per_node) >= time_per_node / 4:\n",
        "        draw(\n",
        "            nodes,\n",
        "            adj,\n",
        "            axs[0],\n",
        "            highlight=[[i], neighs],\n",
        "            labels=[\"center\", \"neighbors\"],\n",
        "            draw_nodes=input_nodes,\n",
        "        )\n",
        "    else:\n",
        "        draw(\n",
        "            nodes,\n",
        "            adj,\n",
        "            axs[0],\n",
        "            highlight=[[i]],\n",
        "            labels=[\"center\", \"neighbors\"],\n",
        "            draw_nodes=input_nodes,\n",
        "        )\n",
        "    if (t - int(t / time_per_node) * time_per_node) < time_per_node / 2:\n",
        "        mask[j] = False\n",
        "    draw(\n",
        "        out_nodes,\n",
        "        adj,\n",
        "        axs[1],\n",
        "        highlight=[[i]],\n",
        "        key=True,\n",
        "        mask=mask,\n",
        "        draw_nodes=input_nodes,\n",
        "    )\n",
        "    fig.set_facecolor(\"#f5f4e9\")\n",
        "    return mplfig_to_npimage(fig)\n",
        "\n",
        "\n",
        "animation = VideoClip(make_frame, duration=time_per_node * nodes.shape[0] * layers)\n",
        "\n",
        "animation.write_gif(\"../content/gcn.gif\", fps=2)"
      ]
    },
    {
      "cell_type": "markdown",
      "source": [
        "### Exercise\n",
        "\n",
        "Let's repeat the same process for Ethanol `(CCO)`.\n",
        "\n",
        "1. Convert the smiles into the graph.\n",
        "2. How many nodes the graph contain? What is the number of rows and columns for the graph?\n",
        "3. Show the adjancy matrix for the Ethanol\n",
        "4. show the adjacancy list for ethanol\n",
        "5. Perform one-step of message passing for each atom in this molecules. Consider the identity matrix for weights."
      ],
      "metadata": {
        "id": "PYeMlIqiLMM-"
      }
    }
  ]
}